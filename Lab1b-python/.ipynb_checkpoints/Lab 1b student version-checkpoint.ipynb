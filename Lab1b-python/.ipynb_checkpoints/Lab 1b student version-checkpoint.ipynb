{
 "cells": [
  {
   "cell_type": "markdown",
   "metadata": {},
   "source": [
    "# Lab 1 - Part 2: Environmental Data Sets\n",
    "\n",
    "## *Lab Overview*\n",
    "\n",
    "This is the second part of Lab 1; it’s purpose is to show you some ways to import real data sets into Python. Real data sets are often large, come in a variety of formats, and can be finicky to deal with. Therefore, it may take you a few tries to get this working: be creative and persistent!\n",
    "\n",
    "## *Learning Goals*\n",
    "After this lab you should be able to :\n",
    "- Load a variety of real data sets into Python\n",
    "- Create and use a mask to remove missing values from data\n",
    "- Create a vector of datenumbers using a for-loop\n",
    "- Generate x-y plots of loaded data with appropriate axes and figure captions\n",
    "\n",
    "## *To Hand In*\n",
    "\n",
    "1. A plot of the Mauna Loa CO2 time series.\n",
    "2. A plot of the MEI index.\n",
    "3. A plot of the data you downloaded for the pre-lab.\n",
    "4. A figure caption for the plot of your data set.\n",
    "\n",
    "## 1. Mauna Loa CO2 time series\n",
    "\n",
    "First you will make your own plot of the Mauna Loa data which you saw on the first day of class. \n",
    "\n",
    "Before you begin, remember to create a new sub-directory (folder) in your Z: drive where you will be able to save all files from this lab session. Ensure MATLAB is working in this directory. **will need to see how we do this for notebooks**\n",
    "\n",
    "\n",
    "Download the file `monthly_maunaloa_co2.csv` from the class website on Connect. This contains atmospheric CO2 data recorded at the Mauna Loa Observatory. Save the file in the correct directory.\n",
    "\n",
    "Now open the file in a excel file text editor **original doc has a note on this to use vim?** and observe how the data is organized. Notice the detailed header; we’ll have to tell Python to ignore the header, but you should at least scan it so you know what the data represents. How many header lines are there? What do the columns represent?\n",
    "\n",
    "First, we are going to load the data from the file into Python with the help of the Pandas Library. Start of by running the cell bellow and importing the library:"
   ]
  },
  {
   "cell_type": "code",
   "execution_count": 4,
   "metadata": {},
   "outputs": [],
   "source": [
    "import pandas as pd"
   ]
  },
  {
   "cell_type": "markdown",
   "metadata": {},
   "source": [
    "We will then read and save the data using the pandas.read_csv() function. We will use the following input arguments with this funciton:\n",
    "\n",
    "- The file name\n",
    "- the row numbers where the headers are located in the CSV file (note that python is zero-indexed so we will enter the row number from the CSV file -1)\n",
    "- which rows we dont want to save as column headers or data points\n",
    "\n",
    "complete the code below and run the cell:"
   ]
  },
  {
   "cell_type": "code",
   "execution_count": 5,
   "metadata": {},
   "outputs": [],
   "source": [
    "muana_loa_data = pd.read_csv(r\"\", header= [], skiprows = [])"
   ]
  },
  {
   "cell_type": "markdown",
   "metadata": {},
   "source": [
    "This snippet of code will create the DataFrame ‘mauna_loa_data’ containing ten columns, one for each column in the CSV file.\n",
    "\n",
    "DataFrames are data structures in python that resemble spreadsheets. Each row of the DataFrame will be automatically indexed starting at 0, and each column will adopt the header name in the original CSV file. Each cell contains the data for the CSV file in the form of an object as interpreted by python. \n",
    "\n",
    "Its a good habit to make sure everything was parsed correctly, there are several functions that may help us when dealing with dataframes. Lets take a look:"
   ]
  },
  {
   "cell_type": "code",
   "execution_count": 6,
   "metadata": {},
   "outputs": [
    {
     "name": "stdout",
     "output_type": "stream",
     "text": [
      "       Yr   Mn      Date        Date       CO2  seasonally          fit  \\\n",
      "0    1958    1     21200   1958.0411    -99.99      -99.99       -99.99   \n",
      "1    1958    2     21231   1958.1260    -99.99      -99.99       -99.99   \n",
      "2    1958    3     21259   1958.2027    315.71      314.42       316.18   \n",
      "3    1958    4     21290   1958.2877    317.45      315.17       317.26   \n",
      "4    1958    5     21320   1958.3699    317.50      314.75       317.81   \n",
      "..    ...  ...       ...         ...       ...         ...          ...   \n",
      "643  2011    8     40770   2011.6219    -99.99      -99.99       -99.99   \n",
      "644  2011    9     40801   2011.7068    -99.99      -99.99       -99.99   \n",
      "645  2011   10     40831   2011.7890    -99.99      -99.99       -99.99   \n",
      "646  2011   11     40862   2011.8740    -99.99      -99.99       -99.99   \n",
      "647  2011   12     40892   2011.9562    -99.99      -99.99       -99.99   \n",
      "\n",
      "       seasonally        CO2   seasonally  \n",
      "0          -99.99     -99.99       -99.99  \n",
      "1          -99.99     -99.99       -99.99  \n",
      "2          314.89     315.71       314.42  \n",
      "3          314.98     317.45       315.17  \n",
      "4          315.06     317.50       314.75  \n",
      "..            ...        ...          ...  \n",
      "643        -99.99     -99.99       -99.99  \n",
      "644        -99.99     -99.99       -99.99  \n",
      "645        -99.99     -99.99       -99.99  \n",
      "646        -99.99     -99.99       -99.99  \n",
      "647        -99.99     -99.99       -99.99  \n",
      "\n",
      "[648 rows x 10 columns]\n"
     ]
    }
   ],
   "source": [
    "#we can print the whole datasets, notice how it resembels a spreadsheet\n",
    "print(muana_loa_data)"
   ]
  },
  {
   "cell_type": "markdown",
   "metadata": {},
   "source": [
    "Sometimes we dont want to print the whole dataset, especially when dealing with large datasets. We can instead do the following:"
   ]
  },
  {
   "cell_type": "code",
   "execution_count": 7,
   "metadata": {},
   "outputs": [
    {
     "name": "stdout",
     "output_type": "stream",
     "text": [
      "     Yr   Mn      Date        Date       CO2  seasonally          fit  \\\n",
      "0  1958    1     21200   1958.0411    -99.99      -99.99       -99.99   \n",
      "1  1958    2     21231   1958.1260    -99.99      -99.99       -99.99   \n",
      "2  1958    3     21259   1958.2027    315.71      314.42       316.18   \n",
      "\n",
      "     seasonally        CO2   seasonally  \n",
      "0        -99.99     -99.99       -99.99  \n",
      "1        -99.99     -99.99       -99.99  \n",
      "2        314.89     315.71       314.42  \n"
     ]
    }
   ],
   "source": [
    "#If we put any number n as an input, we can see the first n rows of our data set. \n",
    "print(muana_loa_data.head(3))"
   ]
  },
  {
   "cell_type": "code",
   "execution_count": 8,
   "metadata": {},
   "outputs": [
    {
     "name": "stdout",
     "output_type": "stream",
     "text": [
      "     Yr   Mn      Date        Date       CO2  seasonally          fit  \\\n",
      "0  1958    1     21200   1958.0411    -99.99      -99.99       -99.99   \n",
      "1  1958    2     21231   1958.1260    -99.99      -99.99       -99.99   \n",
      "2  1958    3     21259   1958.2027    315.71      314.42       316.18   \n",
      "3  1958    4     21290   1958.2877    317.45      315.17       317.26   \n",
      "4  1958    5     21320   1958.3699    317.50      314.75       317.81   \n",
      "\n",
      "     seasonally        CO2   seasonally  \n",
      "0        -99.99     -99.99       -99.99  \n",
      "1        -99.99     -99.99       -99.99  \n",
      "2        314.89     315.71       314.42  \n",
      "3        314.98     317.45       315.17  \n",
      "4        315.06     317.50       314.75  \n"
     ]
    }
   ],
   "source": [
    "#if we dont put an input to the function we get the first five rows back as default.\n",
    "print(muana_loa_data.head())"
   ]
  },
  {
   "cell_type": "code",
   "execution_count": 9,
   "metadata": {},
   "outputs": [
    {
     "name": "stdout",
     "output_type": "stream",
     "text": [
      "Empty DataFrame\n",
      "Columns: [  Yr,  Mn,     Date,       Date,      CO2, seasonally,         fit,   seasonally,       CO2,  seasonally]\n",
      "Index: []\n"
     ]
    }
   ],
   "source": [
    "#we can use the .head function with input 0 to see the column names\n",
    "print(muana_loa_data.head(0))"
   ]
  },
  {
   "cell_type": "markdown",
   "metadata": {},
   "source": [
    "Lets also take a look at how Python interpereted our data, this may be useful later on:"
   ]
  },
  {
   "cell_type": "code",
   "execution_count": 10,
   "metadata": {},
   "outputs": [
    {
     "name": "stdout",
     "output_type": "stream",
     "text": [
      "  Yr              int64\n",
      " Mn               int64\n",
      "    Date          int64\n",
      "      Date      float64\n",
      "     CO2        float64\n",
      "seasonally      float64\n",
      "        fit     float64\n",
      "  seasonally    float64\n",
      "      CO2       float64\n",
      " seasonally     float64\n",
      "dtype: object\n"
     ]
    }
   ],
   "source": [
    "print(muana_loa_data.dtypes) "
   ]
  },
  {
   "cell_type": "markdown",
   "metadata": {},
   "source": [
    "You might notice that our column names have inconsistent spacing. This is because the pandas library will literally read the CSV file. We might want to get rid of these whitespaces to make it easier to access the data later on. We can use the replace function to do so:"
   ]
  },
  {
   "cell_type": "code",
   "execution_count": 11,
   "metadata": {},
   "outputs": [
    {
     "name": "stdout",
     "output_type": "stream",
     "text": [
      "Empty DataFrame\n",
      "Columns: [Yr, Mn, Date, Date, CO2, seasonally, fit, seasonally, CO2, seasonally]\n",
      "Index: []\n"
     ]
    }
   ],
   "source": [
    "#replacing all spaces with an empty string\n",
    "muana_loa_data.columns = muana_loa_data.columns.str.replace(' ','')\n",
    "\n",
    "#lets see how our column names look now\n",
    "print(muana_loa_data.head(0))"
   ]
  },
  {
   "cell_type": "markdown",
   "metadata": {},
   "source": [
    "Now that we made our DataFrame a bit easier to use we can plot the data with the help of the matplotlib library. Start off by importing the pyplot library:"
   ]
  },
  {
   "cell_type": "code",
   "execution_count": 12,
   "metadata": {},
   "outputs": [],
   "source": [
    "import matplotlib.pyplot as plt"
   ]
  },
  {
   "cell_type": "markdown",
   "metadata": {},
   "source": [
    "We can now save the values we want to plot. We are going to take the contents of the cells we are interested in and assign these to their own variables. We want cells 4 and 5, to contain the date and measured CO2. If we look at our outputs from above we can see the respective names are \"Date\" and \"CO2\""
   ]
  },
  {
   "cell_type": "code",
   "execution_count": 13,
   "metadata": {},
   "outputs": [
    {
     "name": "stdout",
     "output_type": "stream",
     "text": [
      "[[21200.      1958.0411]\n",
      " [21231.      1958.126 ]\n",
      " [21259.      1958.2027]\n",
      " ...\n",
      " [40831.      2011.789 ]\n",
      " [40862.      2011.874 ]\n",
      " [40892.      2011.9562]]\n",
      "[[-99.99 -99.99]\n",
      " [-99.99 -99.99]\n",
      " [315.71 315.71]\n",
      " ...\n",
      " [-99.99 -99.99]\n",
      " [-99.99 -99.99]\n",
      " [-99.99 -99.99]]\n"
     ]
    }
   ],
   "source": [
    "#fill in the column names below\n",
    "\n",
    "co2_date =muana_loa_data[\"\"].values\n",
    "co2 = muana_loa_data[\"\"].values\n",
    "\n",
    "#lets take a look at our variables\n",
    "print()\n",
    "print()"
   ]
  },
  {
   "cell_type": "markdown",
   "metadata": {},
   "source": [
    "You may notice our co2 and date variable contains two columns. this is because we had two different columns with the same name. lets fix this up and keep only the colums we want **this is an issue with the data**"
   ]
  },
  {
   "cell_type": "code",
   "execution_count": 14,
   "metadata": {},
   "outputs": [],
   "source": [
    "co2_date = co2_date[:,1]\n",
    "co2=co2[:,0]"
   ]
  },
  {
   "cell_type": "markdown",
   "metadata": {},
   "source": [
    "Lets do all this again for the seasonally adjusted data: **lab doesnt ask for this but TA code does do this**"
   ]
  },
  {
   "cell_type": "code",
   "execution_count": 15,
   "metadata": {},
   "outputs": [],
   "source": [
    "co2sa = muana_loa_data[\"seasonally\"].values\n",
    "co2sa = co2sa[:,0] # https://stackoverflow.com/questions/40557910/plt-plot-meaning-of-0-and-1 explanation of this notation, good to use in lab 1a\n",
    "co2fit = muana_loa_data[\"fit\"].values\n",
    "co2safit = muana_loa_data[\"seasonally\"].values\n",
    "co2safit = co2safit[:,1]"
   ]
  },
  {
   "cell_type": "markdown",
   "metadata": {},
   "source": [
    "Now that weve succesfully wrangled all our data, we can finally plot it"
   ]
  },
  {
   "cell_type": "code",
   "execution_count": 16,
   "metadata": {},
   "outputs": [
    {
     "data": {
      "text/plain": [
       "<function matplotlib.pyplot.show(close=None, block=None)>"
      ]
     },
     "execution_count": 16,
     "metadata": {},
     "output_type": "execute_result"
    },
    {
     "data": {
      "image/png": "[encoded data removed]",
      "text/plain": [
       "<Figure size 432x288 with 1 Axes>"
      ]
     },
     "metadata": {
      "needs_background": "light"
     },
     "output_type": "display_data"
    }
   ],
   "source": [
    "#the first input of our .plot function will be our x axis, the second input will be our y axis\n",
    "plt.plot() #plotting data\n",
    "\n",
    "plt.show()"
   ]
  },
  {
   "cell_type": "markdown",
   "metadata": {},
   "source": [
    "As you can see the pyplot automatically puts x and y ticks, however, we might want to add things such as labels for our axis, a title, or maybe even change the color of the plot"
   ]
  },
  {
   "cell_type": "code",
   "execution_count": 17,
   "metadata": {},
   "outputs": [
    {
     "data": {
      "text/plain": [
       "[<matplotlib.lines.Line2D at 0x1c025f72b80>]"
      ]
     },
     "execution_count": 17,
     "metadata": {},
     "output_type": "execute_result"
    },
    {
     "data": {
      "image/png": "[encoded data removed]",
      "text/plain": [
       "<Figure size 432x288 with 1 Axes>"
      ]
     },
     "metadata": {
      "needs_background": "light"
     },
     "output_type": "display_data"
    }
   ],
   "source": [
    "# the 'r' here specifies we want our plot line to be red\n",
    "\n",
    "plt.plot(co2_date,co2,'r')"
   ]
  },
  {
   "cell_type": "code",
   "execution_count": 18,
   "metadata": {},
   "outputs": [
    {
     "data": {
      "text/plain": [
       "'^k:'"
      ]
     },
     "execution_count": 18,
     "metadata": {},
     "output_type": "execute_result"
    }
   ],
   "source": [
    "#you can have alot more fun with styling, some examples:\n",
    "'b'    # blue markers with default shape\n",
    "'or'   # red circles\n",
    "'-g'   # green solid line\n",
    "'--'   # dashed line with default color\n",
    "'^k:'  # black triangle_up markers connected by a dotted line\n",
    "\n",
    "# take a look at the function documentation for more styling options:\n",
    "# https://matplotlib.org/stable/api/_as_gen/matplotlib.pyplot.plot.html"
   ]
  },
  {
   "cell_type": "markdown",
   "metadata": {},
   "source": [
    "Lets add our title and axis labels **note plt.show() is not necessary using jupyter. will probably remove, but good to discuss**"
   ]
  },
  {
   "cell_type": "code",
   "execution_count": 19,
   "metadata": {},
   "outputs": [
    {
     "data": {
      "image/png": "[encoded data removed]",
      "text/plain": [
       "<Figure size 432x288 with 1 Axes>"
      ]
     },
     "metadata": {
      "needs_background": "light"
     },
     "output_type": "display_data"
    }
   ],
   "source": [
    "plt.plot(co2_date,co2,'r')\n",
    "#setting the title\n",
    "plt.title('Raw CO2 Data vs. Time with missing data')\n",
    "#setting the x axis label\n",
    "plt.xlabel('Date')\n",
    "#setting the yaxis label\n",
    "plt.ylabel('CO2 (ppm)')\n",
    "\n",
    "plt.show() "
   ]
  },
  {
   "cell_type": "markdown",
   "metadata": {},
   "source": [
    "Notice the negative values in the time series. These are missing values. Go back to the header, determine how missing values are indicated, and remove these from the data set using the masking technique you learned in Part 1 of this lab. Then make a new plot, adding the correct labels on the x- and y-axes.\n",
    "\n",
    "Save the plot to a PDF or JPG file. Please print and submit this figure."
   ]
  },
  {
   "cell_type": "code",
   "execution_count": 20,
   "metadata": {},
   "outputs": [],
   "source": [
    "#import the masking library\n",
    "import numpy.ma as ma\n",
    "#importing numpy\n",
    "import numpy as np"
   ]
  },
  {
   "cell_type": "markdown",
   "metadata": {},
   "source": [
    "**masking is a bit weird here. my IDE was different, will go over it again.\n",
    "It seems like the way jupyter is masking the data is different then my IDE/sources online (my idea masks the data, here it seems data is being removed or maybe plot is avoiding the masking)**"
   ]
  },
  {
   "cell_type": "code",
   "execution_count": 21,
   "metadata": {},
   "outputs": [
    {
     "name": "stdout",
     "output_type": "stream",
     "text": [
      "[-99.99 -99.99 315.71 317.45 317.5  -99.99 315.86 314.93 313.2  -99.99\n",
      " 313.33 314.67 315.62 316.38 316.71 317.72 318.29 318.15 316.54 314.8\n",
      " 313.84 313.26 314.8  315.58 316.43 316.97 317.58 319.02 320.03 319.59\n",
      " 318.18 315.91 314.16 313.83 315.   316.19 316.93 317.7  318.54 319.48\n",
      " 320.58 319.77 318.57 316.79 314.8  315.38 316.1  317.01 317.94 318.56\n",
      " 319.68 320.63 321.01 320.55 319.58 317.4  316.25 315.42 316.69 317.69\n",
      " 318.74 319.08 319.86 321.39 322.25 321.47 319.74 317.77 316.21 315.99\n",
      " 317.12 318.31 319.57 -99.99 -99.99 -99.99 322.25 321.89 320.44 318.7\n",
      " 316.7  316.79 317.79 318.71 319.44 320.44 320.89 322.13 322.16 321.87\n",
      " 321.39 318.81 317.81 317.3  318.87 319.42 320.62 321.59 322.39 323.87\n",
      " 324.01 323.75 322.39 320.37 318.64 318.1  319.79 321.08 322.07 322.5\n",
      " 323.04 324.42 325.   324.09 322.55 320.92 319.31 319.31 320.72 321.96\n",
      " 322.57 323.15 323.89 325.02 325.57 325.36 324.14 322.03 320.41 320.25\n",
      " 321.31 322.84 324.   324.42 325.64 326.66 327.34 326.76 325.88 323.67\n",
      " 322.38 321.78 322.85 324.11 325.03 325.99 326.87 328.13 328.07 327.66\n",
      " 326.35 324.69 323.1  323.16 323.98 325.13 326.17 326.68 327.18 327.78\n",
      " 328.92 328.57 327.34 325.46 323.36 323.56 324.8  326.01 326.77 327.63\n",
      " 327.75 329.72 330.07 329.09 328.05 326.32 324.93 325.06 326.5  327.55\n",
      " 328.54 329.56 330.3  331.5  332.48 332.07 330.87 329.31 327.51 327.18\n",
      " 328.16 328.64 329.35 330.71 331.48 332.65 333.09 332.25 331.18 329.4\n",
      " 327.43 327.37 328.46 329.57 330.4  331.41 332.04 333.31 333.97 333.6\n",
      " 331.91 330.06 328.56 328.34 329.49 330.76 331.74 332.56 333.5  334.58\n",
      " 334.87 334.34 333.05 330.94 329.3  328.94 330.31 331.68 332.93 333.42\n",
      " 334.7  336.07 336.75 336.27 334.93 332.75 331.59 331.16 332.4  333.85\n",
      " 334.97 335.39 336.64 337.76 338.01 337.89 336.54 334.68 332.76 332.55\n",
      " 333.92 334.95 336.23 336.76 337.96 338.89 339.47 339.29 337.73 336.09\n",
      " 333.91 333.86 335.29 336.73 338.01 338.36 340.08 340.77 341.46 341.17\n",
      " 339.56 337.6  335.88 336.02 337.1  338.21 339.23 340.48 341.38 342.51\n",
      " 342.91 342.25 340.49 338.43 336.69 336.86 338.36 339.61 340.75 341.61\n",
      " 342.7  343.57 344.14 343.35 342.06 339.81 337.98 337.86 339.26 340.49\n",
      " 341.37 342.52 343.1  344.94 345.75 345.32 343.98 342.39 339.86 339.99\n",
      " 341.16 342.99 343.7  344.51 345.28 347.07 347.43 346.79 345.39 343.28\n",
      " 341.07 341.35 342.98 344.22 344.97 346.   347.43 348.35 348.93 348.25\n",
      " 346.56 344.68 343.09 342.8  344.24 345.56 346.29 346.96 347.86 349.55\n",
      " 350.21 349.54 347.94 345.9  344.85 344.17 345.66 346.9  348.02 348.47\n",
      " 349.42 350.98 351.84 351.25 349.51 348.1  346.45 346.36 347.81 348.96\n",
      " 350.43 351.73 352.22 353.59 354.22 353.79 352.38 350.43 348.72 348.88\n",
      " 350.07 351.34 352.76 353.07 353.68 355.42 355.67 355.12 353.9  351.67\n",
      " 349.8  349.99 351.29 352.52 353.66 354.7  355.39 356.2  357.16 356.23\n",
      " 354.82 352.91 350.96 351.18 352.83 354.21 354.72 355.75 357.16 358.6\n",
      " 359.34 358.24 356.17 354.02 352.15 352.21 353.75 354.99 355.98 356.72\n",
      " 357.81 359.15 359.66 359.25 357.02 355.   353.01 353.31 354.16 355.4\n",
      " 356.7  357.16 358.38 359.46 360.28 359.6  357.57 355.52 353.69 353.99\n",
      " 355.34 356.8  358.37 358.91 359.97 361.26 361.68 360.94 359.55 357.48\n",
      " 355.84 355.99 357.58 359.03 359.96 361.   361.64 363.45 363.79 363.26\n",
      " 361.9  359.46 358.06 357.76 359.56 360.7  362.05 363.25 364.02 364.72\n",
      " 365.41 364.97 363.65 361.48 359.45 359.6  360.76 362.33 363.18 364.\n",
      " 364.57 366.35 366.8  365.62 364.47 362.51 360.19 360.77 362.43 364.28\n",
      " 365.32 366.15 367.31 368.61 369.3  368.87 367.64 365.78 363.9  364.23\n",
      " 365.46 366.97 368.15 368.87 369.59 371.14 371.   370.35 369.27 366.93\n",
      " 364.63 365.13 366.68 368.   369.14 369.46 370.52 371.66 371.82 371.7\n",
      " 370.12 368.12 366.62 366.73 368.29 369.53 370.28 371.5  372.12 372.87\n",
      " 374.02 373.3  371.62 369.55 367.96 368.09 369.68 371.24 372.43 373.09\n",
      " 373.52 374.86 375.55 375.4  374.02 371.49 370.71 370.25 372.08 373.78\n",
      " 374.68 375.63 376.11 377.65 378.35 378.13 376.61 374.49 372.98 373.\n",
      " 374.35 375.69 376.78 377.36 378.4  380.5  380.61 379.55 377.77 375.84\n",
      " 374.05 374.22 375.84 377.44 378.34 379.66 380.38 382.14 382.24 382.1\n",
      " 380.66 378.68 376.39 376.79 378.32 380.02 381.37 382.03 382.63 384.4\n",
      " 384.94 384.08 382.36 380.48 378.82 379.05 380.17 381.67 382.57 383.75\n",
      " 384.33 386.23 386.43 385.86 384.43 381.84 380.86 380.88 382.39 383.71\n",
      " 385.04 385.87 385.85 386.77 388.49 387.92 386.32 384.16 383.   382.81\n",
      " 384.05 385.14 386.71 387.17 388.62 389.51 390.18 389.6  388.01 386.07\n",
      " 384.61 384.34 386.02 387.36 388.56 389.97 390.99 392.52 393.22 392.29\n",
      " 390.48 388.54 386.83 387.14 388.62 389.89 391.31 391.92 -99.99 -99.99\n",
      " -99.99 -99.99 -99.99 -99.99 -99.99 -99.99 -99.99 -99.99]\n"
     ]
    }
   ],
   "source": [
    "co2 = ma.masked_where(co2_date<0,co2)\n",
    "print(co2) ##looks like values are being removed not masked"
   ]
  },
  {
   "cell_type": "code",
   "execution_count": 27,
   "metadata": {},
   "outputs": [
    {
     "data": {
      "image/png": "[encoded data removed]",
      "text/plain": [
       "<Figure size 432x288 with 1 Axes>"
      ]
     },
     "metadata": {
      "needs_background": "light"
     },
     "output_type": "display_data"
    }
   ],
   "source": [
    "#masking empty entries\n",
    "co2 = ma.masked_where(co2_date<0,co2) #masking data\n",
    "co2_date = ma.masked_where(co2<0,co2_date) #TA solution doesnt mask data data. May remove.\n",
    "co2 = ma.masked_where(co2<0,co2) #masking data\n",
    "co2_date = ma.masked_where(co2_date<0,co2_date) #TA solution doesnt mask data data. May remove.\n",
    "\n",
    "#Plot all raw CO2 data with fitted curve overplotted\n",
    "plt.plot(,,,label='CO2 Raw') #plotting data\n",
    "plt.title('')\n",
    "plt.legend()\n",
    "plt.ylabel('')\n",
    "plt.xlabel('')\n",
    "plt.show()"
   ]
  },
  {
   "cell_type": "markdown",
   "metadata": {},
   "source": [
    "**TA code also plots fitted data on top**"
   ]
  },
  {
   "cell_type": "code",
   "execution_count": null,
   "metadata": {},
   "outputs": [],
   "source": [
    "#masking empty entries\n",
    "co2fit = ma.masked_where(co2_date<0,co2fit[:631])\n",
    "co2fit = ma.masked_where(co2<0,co2fit)\n",
    "co2fit = ma.masked_where(co2fit<0,co2fit)\n",
    "co2 = ma.masked_where(co2_date[:631]<0,co2) #masking data\n",
    "co2_date = ma.masked_where(co2<0,co2_date[:631]) #TA solution doesnt mask data data. May remove.\n",
    "co2 = ma.masked_where(co2<0,co2) #masking data\n",
    "co2_date = ma.masked_where(co2_date<0,co2_date) #TA solution doesnt mask data data. May remove.\n",
    "\n",
    "\n",
    "#Plotting all raw CO2 data with fitted curve overplotted\n",
    "plt.plot(co2_date,co2,'r-',label='CO2 Raw') #plotting data\n",
    "plt.plot(co2_date,co2fit,'k-',label='CO2 Fit')\n",
    "plt.title('Raw CO2 Data vs. Time')\n",
    "plt.legend()\n",
    "plt.ylabel('CO2 (ppm)')\n",
    "plt.xlabel('Date')\n",
    "plt.show()"
   ]
  },
  {
   "cell_type": "markdown",
   "metadata": {},
   "source": [
    "**TA code also plots seasonally adjusted data**"
   ]
  },
  {
   "cell_type": "code",
   "execution_count": null,
   "metadata": {},
   "outputs": [],
   "source": [
    "#masking data\n",
    "co2sa = ma.masked_where(co2sa<0,co2sa)\n",
    "co2safit = ma.masked_where(co2safit<0,co2safit)\n",
    "\n",
    "#plotting seasonally adjusted CO2 data with fitted curve overplotted\n",
    "plt.plot(co2_date,co2sa[:631],'g-',label='co2sa') #plotting data\n",
    "plt.plot(co2_date,co2safit[:631],'k-',label='co2sa')\n",
    "plt.legend()\n",
    "plt.title('Seasonally Adjusted CO2 Data vs. Time')\n",
    "plt.ylabel('CO2 SA fit (ppm)')\n",
    "plt.xlabel('Date')\n",
    "plt.show()"
   ]
  },
  {
   "cell_type": "markdown",
   "metadata": {},
   "source": [
    "## 2. MEI Index\n",
    "Now we are going to import and plot a time series of the Multivariate ENSO Index (MEI), a climate index which represents the state of the El Niño-Southern Oscillation. The MEI gives an indication of whether the tropical Pacific is in an El Niño (warm water, positive MEI) or a La Niña (cold water, negative MEI) state.\n",
    "\n",
    "From the class website, download the file MEI.html and place it in your working directory. As before, open the file in a text editor and observe how the raw data is organized. This is always your first step.\n",
    "\n",
    "Notice, that there are 13 header lines, 63 rows of data, all followed by some useful tips at the end of the file. Each row represents a year and each column a month within that year.\n",
    "\n",
    "**Original: Though we could again use textscan() to upload the data, we will use a different approach this time. In the future, feel free to use whichever suits you better.**\n",
    "\n",
    "**should i also try using a differnet method above**\n",
    "\n",
    "Begin by making a copy of the file and renaming it something like MEI_data_only.txt. Now, in this new file, simply delete all the header lines as well as the trailing information, leaving you with only the 63 lines of data. Make sure to save.\n",
    "Notice that the last line of data doesn’t contain the same number of columns as all the others. This is because we don’t have data from Aug-Dec 2012.\n",
    "\n",
    "Don’t worry if the numbers aren’t evenly spaced or if we have missing values, Pandas will take care of everything for us behind the scenes.\n",
    "\n",
    "Now with a text file containing only data and no extra information, We can load that data using the read_csv function from before, but with slightly different inputs:"
   ]
  },
  {
   "cell_type": "code",
   "execution_count": null,
   "metadata": {},
   "outputs": [],
   "source": [
    "#We will add the sep=’\\t’ to specify that our data is separated by \\t\n",
    "\n",
    "#We will add the index_col=0 input so our rows will be named the same as the 0th row on the file.\n",
    "#with .txt files If we dont do this, Python will automatically number the rows from 0 to n\n",
    "#and our colum headers will be used as data.\n",
    "\n",
    "#We will add header=None so the first row of data wont be interpreted as the column names\n",
    "\n",
    "#fill in the file name to run this code\n",
    "\n",
    "M = pd.read_csv('', sep='\\t',index_col=0,header=None)"
   ]
  },
  {
   "cell_type": "markdown",
   "metadata": {},
   "source": [
    "With this, M is a matrix containing all the data from the text file. Try printing it to see how it is organized. "
   ]
  },
  {
   "cell_type": "code",
   "execution_count": null,
   "metadata": {},
   "outputs": [],
   "source": [
    "#print M to see how it was saved"
   ]
  },
  {
   "cell_type": "markdown",
   "metadata": {},
   "source": [
    "This complete, there are two challenges left before we can plot this data. First, we need to reshape the DataFrame into a one-dimensional array (call this mei) so that it can be plotted. Secondly, since our data only has year information but no month information, we need to create an appropriate array (called dates) the same size as mei to represent the date, both year and month. The first step is quite easy as Python has built-in functions to reshape DataFrames "
   ]
  },
  {
   "cell_type": "code",
   "execution_count": null,
   "metadata": {},
   "outputs": [],
   "source": [
    "#reshaping array\n",
    "mei=M.to_numpy().flatten()\n",
    "\n",
    "#seing whats up\n",
    "print(mei)"
   ]
  },
  {
   "cell_type": "markdown",
   "metadata": {},
   "source": [
    "Now that you have a single one-dimensional array containing your data points, you need to make an array holding the corresponding dates. To do this, you can use the method outlined below. But before, a bit about dates in Python\n",
    "\n",
    "### Dates in Python\n",
    "In order to make a proper time series in Python, you have to understand a little about how the program stores and displays dates. Python has a module called datetime which allow you to create complex data structures that represent dates. First lets import the module:"
   ]
  },
  {
   "cell_type": "code",
   "execution_count": null,
   "metadata": {},
   "outputs": [],
   "source": [
    "import datetime "
   ]
  },
  {
   "cell_type": "markdown",
   "metadata": {},
   "source": [
    "now lets get to know the module: **should this be here or in prelab?**"
   ]
  },
  {
   "cell_type": "code",
   "execution_count": null,
   "metadata": {},
   "outputs": [],
   "source": [
    "#This call returns today’s date. \n",
    "print(\"todays date \" + str(datetime.date.today()))\n",
    "\n",
    "#We can also get the time right now:\n",
    "print(\"the time right now \" + str(datetime.datetime.now()))\n",
    "\n",
    "#And finally, we can also create our own datetime object :\n",
    "x=datetime.datetime(2022,2,2)\n",
    "print(\"the date we created is \"+ str(x))\n",
    "\n",
    "#Creating such objects will allow us to have some functionality with our date data, for example we can change dates:\n",
    "x = x.replace(year=2019)\n",
    "print(\"and now it is \" + str(x))"
   ]
  },
  {
   "cell_type": "markdown",
   "metadata": {},
   "source": [
    "Having this sort of functionality is especially important when we want to create a time series. You will see why in following labs.\n",
    "\n",
    "Lets go ahead and create an array that holds the different dates the data was collected in:"
   ]
  },
  {
   "cell_type": "code",
   "execution_count": null,
   "metadata": {},
   "outputs": [],
   "source": [
    "dates =[]\n",
    "for i in range(1950,2013):\n",
    "    for j in range(1,13):\n",
    "        dates.append(datetime.datetime(i, j, 1))\n",
    "        \n",
    "#taking a peak at the data        \n",
    "print(dates[:5])"
   ]
  },
  {
   "cell_type": "markdown",
   "metadata": {},
   "source": [
    " Once we’ve done this, we can make a plot of the MEI index (remember to label your axes) and submit this figure:"
   ]
  },
  {
   "cell_type": "code",
   "execution_count": null,
   "metadata": {},
   "outputs": [],
   "source": [
    "#plot the MEI index here"
   ]
  },
  {
   "cell_type": "markdown",
   "metadata": {},
   "source": [
    "## 3. Import and Plot Your Data Set\n",
    "Import the data set you downloaded in the prelab and generate a plot from it.\n",
    "\n",
    "Since each of the data sets is organized differently, it is up to you to determine how to properly import it. However, feel free to show your data set to a lab TA and discuss challenges associated with importing the different data sets - some data sets are much easier to work with than others are.\n",
    "\n",
    "Write an python script which will do the following:\n",
    "\n",
    "- Load the data set you selected in the pre-lab assignment.\n",
    "- Assign the data to appropriate MATLAB variables.\n",
    "- Generate a plot of your data with any missing values removed. Give your plot an appropriate title and label your axes, including the correct units. If your data file contains more than one kind of measurement, choose only one variable to plot.\n",
    "\n",
    "Once the plot is completed, write a caption for the plot. The caption should include:\n",
    "\n",
    "- A title for the graph\n",
    "- A description of what data the plot is showing\n",
    "- Axes labels including the units of the data\n",
    "- Any information necessary for interpreting the plot correctly.\n",
    "\n",
    "Captions should be between 15 - 100 words long; the more complicated a plot is, the more description will be needed in the caption.\n",
    "\n",
    "For example, a figure caption for the first plot we created might look like this: **original pdf doesnt actually have this example**\n",
    "\n",
    "Figure 1: Atmospheric CO2. CO2 concentrations in parts per million (ppm) recorded at the Mauna Loa Observatory from 1958 - 2011."
   ]
  },
  {
   "cell_type": "code",
   "execution_count": 25,
   "metadata": {},
   "outputs": [
    {
     "name": "stdout",
     "output_type": "stream",
     "text": [
      "             0       1\n",
      "0    1992.9595  -5.680\n",
      "1    1992.9866  -7.386\n",
      "2    1993.0138  -9.084\n",
      "3    1993.0409 -11.682\n",
      "4    1993.0681 -11.202\n",
      "..         ...     ...\n",
      "827  2016.4426  81.039\n",
      "828  2016.4697  81.482\n",
      "829  2016.4969  75.442\n",
      "830  2016.5240  74.733\n",
      "831  2016.5512  76.437\n",
      "\n",
      "[832 rows x 2 columns]\n",
      "Empty DataFrame\n",
      "Columns: [0, 1]\n",
      "Index: []\n",
      "[1992.9595 1992.9866 1993.0138 1993.0409 1993.0681 1993.0952 1993.1223\n",
      " 1993.1495 1993.1766 1993.2038 1993.2309 1993.2852 1993.3124 1993.3395\n",
      " 1993.3667 1993.3938 1993.421  1993.4481 1993.4753 1993.5024 1993.5296\n",
      " 1993.5839 1993.611  1993.6382 1993.6653 1993.6925 1993.7196 1993.7468\n",
      " 1993.7739 1993.801  1993.8553 1993.8825 1993.9096 1993.9368 1993.9639\n",
      " 1993.9911 1994.0182 1994.0454 1994.0725 1994.0997 1994.1268 1994.154\n",
      " 1994.1811 1994.2354 1994.2626 1994.2897 1994.3169 1994.344  1994.3712\n",
      " 1994.3983 1994.4255 1994.4526 1994.5069 1994.534  1994.5612 1994.5883\n",
      " 1994.6155 1994.6426 1994.6698 1994.6969 1994.7241 1994.7512 1994.7784\n",
      " 1994.8055 1994.8327 1994.887  1994.9141 1994.9413 1994.9684 1994.9956\n",
      " 1995.0227 1995.0499 1995.077  1995.1042 1995.1313 1995.1585 1995.2128\n",
      " 1995.2399 1995.267  1995.2942 1995.3213 1995.3756 1995.4028 1995.4299\n",
      " 1995.4571 1995.4842 1995.5385 1995.5657 1995.5928 1995.62   1995.6471\n",
      " 1995.6743 1995.7014 1995.7286 1995.7557 1995.7829 1995.8372 1995.8643\n",
      " 1995.8915 1995.9458 1995.9729 1996.     1996.0272 1996.0543 1996.0815\n",
      " 1996.1086 1996.1629 1996.1901 1996.2172 1996.2444 1996.2715 1996.2987\n",
      " 1996.3258 1996.353  1996.3801 1996.4073 1996.4344 1996.4887 1996.5159\n",
      " 1996.543  1996.5702 1996.5973 1996.6245 1996.6516 1996.6788 1996.7059\n",
      " 1996.733  1996.7602 1996.8145 1996.8416 1996.8688 1996.8959 1996.9231\n",
      " 1996.9502 1996.9774 1997.0045 1997.0317 1997.0588 1997.086  1997.1403\n",
      " 1997.1674 1997.1946 1997.2217 1997.2489 1997.276  1997.3032 1997.3303\n",
      " 1997.3575 1997.3846 1997.4118 1997.466  1997.4932 1997.5203 1997.5475\n",
      " 1997.5746 1997.6289 1997.6561 1997.6832 1997.7104 1997.7375 1997.7918\n",
      " 1997.819  1997.8461 1997.8733 1997.9004 1997.9276 1997.9547 1997.9819\n",
      " 1998.009  1998.0362 1998.0905 1998.1176 1998.1448 1998.1719 1998.199\n",
      " 1998.2262 1998.2533 1998.2805 1998.3076 1998.3348 1998.3619 1998.4162\n",
      " 1998.4434 1998.4705 1998.4977 1998.5248 1998.552  1998.6063 1998.6334\n",
      " 1998.6606 1998.6877 1998.7149 1998.742  1998.7692 1998.8235 1998.8506\n",
      " 1998.8777 1998.9049 1998.932  1998.9592 1998.9863 1999.0135 1999.0406\n",
      " 1999.0949 1999.1221 1999.1492 1999.1764 1999.2035 1999.2307 1999.2578\n",
      " 1999.285  1999.3393 1999.3664 1999.3936 1999.4207 1999.4479 1999.475\n",
      " 1999.5022 1999.5293 1999.5565 1999.5836 1999.6107 1999.6379 1999.6922\n",
      " 1999.7193 1999.7465 1999.7736 1999.8008 1999.8279 1999.8551 1999.8822\n",
      " 1999.9094 1999.9637 1999.9908 2000.018  2000.0451 2000.0723 2000.0994\n",
      " 2000.1266 2000.1537 2000.1809 2000.208  2000.2352 2000.2895 2000.3166\n",
      " 2000.3437 2000.3709 2000.398  2000.4252 2000.4523 2000.4795 2000.5066\n",
      " 2000.5338 2000.5881 2000.6152 2000.6424 2000.6695 2000.6967 2000.7238\n",
      " 2000.751  2000.7781 2000.8053 2000.8596 2000.8867 2000.9139 2000.941\n",
      " 2000.9682 2000.9953 2001.0225 2001.0767 2001.1039 2001.131  2001.1582\n",
      " 2001.1853 2001.2125 2001.2396 2001.2668 2001.2939 2001.3211 2001.3482\n",
      " 2001.3754 2001.4025 2001.4297 2001.4568 2001.484  2001.5111 2001.5383\n",
      " 2001.5654 2001.5926 2001.6197 2001.6469 2001.674  2001.7012 2001.7283\n",
      " 2001.7555 2001.7826 2001.8097 2001.8369 2001.864  2001.8912 2001.9183\n",
      " 2001.9455 2001.9726 2001.9998 2002.0269 2002.0541 2002.0812 2002.1084\n",
      " 2002.1355 2002.1627 2002.1898 2002.217  2002.2441 2002.2713 2002.2984\n",
      " 2002.3256 2002.3527 2002.3799 2002.407  2002.4342 2002.4613 2002.4885\n",
      " 2002.5156 2002.5427 2002.5699 2002.597  2002.6242 2002.6513 2002.6785\n",
      " 2002.7056 2002.7328 2002.7599 2002.7871 2002.8142 2002.8414 2002.8685\n",
      " 2002.8957 2002.9228 2002.95   2002.9771 2003.0043 2003.0314 2003.0586\n",
      " 2003.0857 2003.1129 2003.14   2003.1672 2003.1943 2003.2214 2003.2486\n",
      " 2003.2757 2003.3029 2003.33   2003.3572 2003.3843 2003.4115 2003.4386\n",
      " 2003.4658 2003.4929 2003.5201 2003.5472 2003.5744 2003.6015 2003.6287\n",
      " 2003.6558 2003.683  2003.7101 2003.7373 2003.7644 2003.7916 2003.8187\n",
      " 2003.8459 2003.873  2003.9273 2003.9544 2003.9816 2004.0087 2004.0359\n",
      " 2004.063  2004.0902 2004.1173 2004.1445 2004.1716 2004.1988 2004.2259\n",
      " 2004.2531 2004.2802 2004.3074 2004.3345 2004.3617 2004.3888 2004.416\n",
      " 2004.4431 2004.4703 2004.4974 2004.5246 2004.5517 2004.5789 2004.606\n",
      " 2004.6332 2004.6603 2004.6874 2004.7146 2004.7417 2004.7689 2004.796\n",
      " 2004.8232 2004.8503 2004.8775 2004.9046 2004.9318 2004.9589 2004.9861\n",
      " 2005.0132 2005.0404 2005.0675 2005.0947 2005.1218 2005.149  2005.1761\n",
      " 2005.2033 2005.2304 2005.2576 2005.2847 2005.3119 2005.339  2005.3662\n",
      " 2005.3933 2005.4204 2005.4476 2005.4747 2005.5019 2005.529  2005.5562\n",
      " 2005.5833 2005.6105 2005.6376 2005.6648 2005.6919 2005.7734 2005.8005\n",
      " 2005.8277 2005.8548 2005.882  2005.9091 2005.9363 2005.9634 2005.9906\n",
      " 2006.0177 2006.0449 2006.072  2006.0992 2006.1263 2006.1534 2006.1806\n",
      " 2006.2077 2006.2349 2006.262  2006.2892 2006.3163 2006.3435 2006.3706\n",
      " 2006.3978 2006.4249 2006.4521 2006.4792 2006.5064 2006.5335 2006.5607\n",
      " 2006.5878 2006.615  2006.6421 2006.6693 2006.6964 2006.7236 2006.7507\n",
      " 2006.7779 2006.805  2006.8864 2006.9136 2006.9407 2006.9679 2006.995\n",
      " 2007.0222 2007.0493 2007.0765 2007.1036 2007.1308 2007.1579 2007.1851\n",
      " 2007.2122 2007.2394 2007.2665 2007.2937 2007.3208 2007.348  2007.3751\n",
      " 2007.4023 2007.4294 2007.4566 2007.4837 2007.5109 2007.538  2007.5651\n",
      " 2007.5923 2007.6194 2007.6466 2007.6737 2007.7009 2007.728  2007.7552\n",
      " 2007.7823 2007.8095 2007.8366 2007.8638 2007.8909 2007.9181 2007.9452\n",
      " 2007.9724 2007.9995 2008.0267 2008.0538 2008.081  2008.1081 2008.1353\n",
      " 2008.1624 2008.1896 2008.2167 2008.2439 2008.271  2008.2981 2008.3253\n",
      " 2008.3796 2008.4067 2008.4339 2008.461  2008.4882 2008.5153 2008.5425\n",
      " 2008.5696 2008.5968 2008.6239 2008.6511 2008.6782 2008.7054 2008.7325\n",
      " 2008.7597 2008.7868 2008.814  2008.8411 2008.8683 2008.8954 2008.9226\n",
      " 2008.9497 2008.9769 2009.004  2009.0311 2009.0583 2009.0854 2009.1126\n",
      " 2009.1397 2009.1669 2009.194  2009.2212 2009.2483 2009.2755 2009.3026\n",
      " 2009.3298 2009.3569 2009.3841 2009.4112 2009.4384 2009.4655 2009.4927\n",
      " 2009.5198 2009.547  2009.5741 2009.6013 2009.6284 2009.6556 2009.6827\n",
      " 2009.7099 2009.737  2009.7642 2009.7913 2009.8184 2009.8456 2009.8727\n",
      " 2009.8999 2009.927  2009.9542 2009.9813 2010.0085 2010.0356 2010.0628\n",
      " 2010.0899 2010.1171 2010.1442 2010.1714 2010.1985 2010.2257 2010.2528\n",
      " 2010.28   2010.3071 2010.3343 2010.3614 2010.3886 2010.4157 2010.4429\n",
      " 2010.47   2010.4971 2010.5243 2010.5514 2010.5786 2010.6057 2010.6329\n",
      " 2010.66   2010.6872 2010.7143 2010.7415 2010.7686 2010.7958 2010.8229\n",
      " 2010.8501 2010.8772 2010.9044 2010.9315 2010.9587 2010.9858 2011.013\n",
      " 2011.0401 2011.0673 2011.0944 2011.1216 2011.1487 2011.1759 2011.203\n",
      " 2011.2301 2011.2573 2011.2844 2011.3116 2011.3387 2011.3659 2011.393\n",
      " 2011.4202 2011.4473 2011.4745 2011.5016 2011.5288 2011.5559 2011.5831\n",
      " 2011.6102 2011.6374 2011.6645 2011.6917 2011.7188 2011.746  2011.7731\n",
      " 2011.8003 2011.8274 2011.8546 2011.8817 2011.9089 2011.936  2011.9631\n",
      " 2011.9903 2012.0174 2012.0446 2012.0717 2012.0989 2012.126  2012.1532\n",
      " 2012.1803 2012.2075 2012.2346 2012.2618 2012.2889 2012.3161 2012.3432\n",
      " 2012.3704 2012.3975 2012.4247 2012.4518 2012.479  2012.5061 2012.5333\n",
      " 2012.5604 2012.5876 2012.6147 2012.6419 2012.669  2012.6961 2012.7233\n",
      " 2012.7504 2012.7776 2012.8047 2012.8319 2012.859  2012.8862 2012.9133\n",
      " 2012.9405 2012.9676 2012.9948 2013.0219 2013.0491 2013.0762 2013.1034\n",
      " 2013.1305 2013.1577 2013.1848 2013.212  2013.2663 2013.2934 2013.3206\n",
      " 2013.3477 2013.3749 2013.402  2013.4291 2013.4563 2013.4834 2013.5106\n",
      " 2013.5377 2013.5649 2013.592  2013.6192 2013.6463 2013.6735 2013.7278\n",
      " 2013.7549 2013.7821 2013.8092 2013.8364 2013.8635 2013.8907 2013.9178\n",
      " 2013.945  2013.9721 2013.9993 2014.0264 2014.0536 2014.0807 2014.1079\n",
      " 2014.135  2014.1621 2014.1893 2014.2164 2014.2436 2014.2707 2014.2979\n",
      " 2014.325  2014.3522 2014.3793 2014.4065 2014.4336 2014.4608 2014.4879\n",
      " 2014.5151 2014.5422 2014.5694 2014.5965 2014.6237 2014.6508 2014.678\n",
      " 2014.7051 2014.7323 2014.7594 2014.7866 2014.8137 2014.8409 2014.868\n",
      " 2014.8951 2014.9223 2014.9494 2014.9766 2015.0037 2015.0309 2015.058\n",
      " 2015.0852 2015.1123 2015.1395 2015.1666 2015.1938 2015.2209 2015.2481\n",
      " 2015.2752 2015.3024 2015.3295 2015.3567 2015.3838 2015.411  2015.4381\n",
      " 2015.4653 2015.4924 2015.5196 2015.5467 2015.5739 2015.601  2015.6281\n",
      " 2015.6553 2015.6824 2015.7096 2015.7367 2015.7639 2015.791  2015.8182\n",
      " 2015.8453 2015.8725 2015.8996 2015.9268 2015.9539 2015.9811 2016.0082\n",
      " 2016.0354 2016.0625 2016.0897 2016.1168 2016.144  2016.1711 2016.1983\n",
      " 2016.2254 2016.2526 2016.2797 2016.3068 2016.334  2016.3611 2016.3883\n",
      " 2016.4154 2016.4426 2016.4697 2016.4969 2016.524  2016.5512]\n",
      "[-5.6800e+00 -7.3860e+00 -9.0840e+00 -1.1682e+01 -1.1202e+01 -9.5110e+00\n",
      " -3.6930e+00 -2.4900e+00 -6.8410e+00 -5.8630e+00 -2.9730e+00 -2.0970e+00\n",
      " -4.5000e-01 -5.4450e+00 -7.4520e+00 -6.4610e+00 -1.7120e+00  3.4900e-01\n",
      " -1.5450e+00 -4.1840e+00 -4.8570e+00 -2.5620e+00 -2.4270e+00 -2.3180e+00\n",
      " -6.2490e+00 -7.3400e+00 -6.3410e+00 -7.4700e-01  1.8370e+00 -1.8410e+00\n",
      " -7.1050e+00 -4.4870e+00 -2.5300e+00 -6.6300e-01  1.6000e+00 -3.7210e+00\n",
      " -5.7750e+00 -1.1510e+00  2.4890e+00 -1.1220e+00 -6.4920e+00 -1.0663e+01\n",
      " -2.6070e+00  1.5740e+00  6.8000e-01 -1.1970e+00 -5.7180e+00 -4.5240e+00\n",
      " -1.6650e+00 -3.6650e+00 -2.2340e+00 -3.3450e+00 -6.1210e+00 -1.2850e+00\n",
      "  3.9500e-01 -1.5070e+00 -7.6460e+00 -8.0270e+00 -8.1660e+00 -3.0600e-01\n",
      " -7.4600e-01 -4.5440e+00 -5.2480e+00 -4.3990e+00 -5.5480e+00 -3.1360e+00\n",
      " -1.0108e+01 -7.7950e+00 -4.9930e+00 -7.5000e-02  2.5840e+00  2.4720e+00\n",
      "  3.8860e+00 -3.3330e+00 -8.8350e+00 -1.4050e+00  5.2650e+00 -2.8840e+00\n",
      " -4.4760e+00 -6.0410e+00 -1.3210e+00 -1.6730e+00 -1.0430e+00 -1.6420e+00\n",
      " -3.8630e+00 -2.2740e+00 -3.1200e-01 -2.8270e+00 -6.2590e+00 -6.9600e+00\n",
      " -4.6100e+00  5.7000e-01  1.8150e+00  2.0970e+00 -4.0910e+00 -5.5450e+00\n",
      " -9.3800e-01  3.4500e-01 -8.2100e-01 -6.0430e+00  3.6880e+00  2.2570e+00\n",
      " -1.7830e+00 -4.9050e+00 -6.9050e+00 -4.3240e+00  5.2950e+00  3.3000e-01\n",
      " -2.2200e-01 -2.0210e+00 -2.9620e+00  1.2830e+00  4.4850e+00  2.7320e+00\n",
      " -2.5100e-01 -7.3300e-01  9.7200e-01  7.4790e+00  4.7900e+00  2.9760e+00\n",
      "  1.4410e+00  1.9370e+00  1.8080e+00  2.9200e+00  1.6360e+00 -2.9000e-01\n",
      " -1.9160e+00 -1.1630e+00  8.8000e-02  3.5430e+00  1.3190e+00 -2.6550e+00\n",
      "  5.7800e-01  4.9400e+00  3.7420e+00  1.7710e+00 -6.8200e-01 -4.9110e+00\n",
      "  1.0580e+00  3.0790e+00  1.4250e+00 -1.9040e+00 -1.2530e+00  2.5600e+00\n",
      "  7.1990e+00  3.6750e+00  2.6360e+00  6.8460e+00  1.9810e+00  7.5870e+00\n",
      "  1.1255e+01  1.0115e+01  7.7530e+00  8.3850e+00  1.1126e+01  1.1153e+01\n",
      "  1.2897e+01  1.0489e+01  9.9810e+00  1.5503e+01  1.4869e+01  1.3004e+01\n",
      "  1.1534e+01  8.9850e+00  1.1285e+01  1.4813e+01  1.1205e+01  1.0732e+01\n",
      "  4.8690e+00  8.8370e+00  1.4491e+01  1.3642e+01  1.0986e+01  7.0840e+00\n",
      "  1.0191e+01  1.2024e+01  1.7248e+01  1.7901e+01  1.2451e+01  1.3236e+01\n",
      "  1.0502e+01  1.1926e+01  1.2416e+01  8.1840e+00  6.5880e+00  7.1680e+00\n",
      "  7.8380e+00  7.4450e+00  4.6460e+00  6.1770e+00  6.5870e+00  9.1520e+00\n",
      "  1.0908e+01  1.0849e+01  6.7840e+00  7.5420e+00  1.3485e+01  7.6370e+00\n",
      "  1.6857e+01  1.1035e+01  6.8770e+00  8.9650e+00  1.4776e+01  1.0176e+01\n",
      "  1.0101e+01  7.6380e+00  1.0776e+01  1.2158e+01  1.5446e+01  1.1892e+01\n",
      "  9.3020e+00  1.0407e+01  1.2681e+01  1.1393e+01  1.3540e+01  7.3840e+00\n",
      "  6.0030e+00  8.9730e+00  1.4709e+01  1.5815e+01  1.2918e+01  7.9300e+00\n",
      "  1.2072e+01  1.2781e+01  1.6155e+01  1.4234e+01  1.5246e+01  1.1433e+01\n",
      "  1.3494e+01  1.7048e+01  1.6093e+01  1.3681e+01  1.3866e+01  1.7471e+01\n",
      "  1.7662e+01  1.7969e+01  1.6243e+01  1.0835e+01  1.1822e+01  1.7781e+01\n",
      "  1.8909e+01  1.8377e+01  1.9460e+01  1.4436e+01  1.5205e+01  1.4319e+01\n",
      "  1.5557e+01  1.4321e+01  1.1677e+01  1.0321e+01  1.3714e+01  1.5497e+01\n",
      "  1.7422e+01  8.1110e+00  1.4321e+01  1.7976e+01  1.6339e+01  1.5990e+01\n",
      "  1.8165e+01  1.7587e+01  1.8324e+01  1.9429e+01  2.1508e+01  1.7371e+01\n",
      "  1.8003e+01  1.5176e+01  1.7741e+01  2.2194e+01  1.7939e+01  1.5175e+01\n",
      "  1.9053e+01  1.9876e+01  2.4097e+01  2.4382e+01  1.7986e+01  1.9060e+01\n",
      "  1.9922e+01  2.4412e+01  2.3951e+01  2.0438e+01  1.8443e+01  1.6194e+01\n",
      "  1.7847e+01  2.0567e+01  2.5480e+01  2.5966e+01  2.3402e+01  1.7357e+01\n",
      "  2.2964e+01  2.3101e+01  2.3594e+01  2.2823e+01  2.2115e+01  2.2539e+01\n",
      "  2.5131e+01  2.4245e+01  2.2704e+01  2.6071e+01  2.3471e+01  2.1055e+01\n",
      "  2.1150e+01  2.2065e+01  2.4161e+01  2.4978e+01  1.8386e+01  1.9540e+01\n",
      "  2.6925e+01  2.9768e+01  2.8165e+01  2.3340e+01  1.7811e+01  2.0851e+01\n",
      "  2.3097e+01  2.9188e+01  2.5692e+01  2.5291e+01  2.0298e+01  2.2926e+01\n",
      "  2.5788e+01  2.5976e+01  2.2926e+01  2.6367e+01  2.5613e+01  2.6134e+01\n",
      "  2.9765e+01  3.3170e+01  3.3164e+01  2.6572e+01  2.2967e+01  2.5215e+01\n",
      "  3.1059e+01  2.9264e+01  3.0791e+01  3.1133e+01  2.3763e+01  2.5712e+01\n",
      "  3.3780e+01  3.0444e+01  2.8989e+01  2.7110e+01  2.4248e+01  2.3919e+01\n",
      "  3.2614e+01  3.4997e+01  3.4560e+01  2.3705e+01  2.6121e+01  2.8599e+01\n",
      "  3.1797e+01  3.2516e+01  2.7930e+01  2.6351e+01  2.6157e+01  2.6374e+01\n",
      "  3.0510e+01  3.1751e+01  2.5221e+01  2.5542e+01  2.4077e+01  2.6113e+01\n",
      "  3.1742e+01  3.1307e+01  2.9402e+01  2.3251e+01  2.5240e+01  3.1683e+01\n",
      "  3.1841e+01  3.0346e+01  3.0390e+01  2.6269e+01  2.7262e+01  2.7853e+01\n",
      "  3.0610e+01  3.0445e+01  2.7076e+01  2.5319e+01  3.0581e+01  3.6129e+01\n",
      "  3.5916e+01  3.2000e+01  2.0466e+01  3.0993e+01  3.1004e+01  3.4096e+01\n",
      "  3.3112e+01  3.1196e+01  2.8385e+01  3.4320e+01  2.8762e+01  3.0756e+01\n",
      "  2.8269e+01  2.7309e+01  2.6107e+01  2.9293e+01  3.6079e+01  3.6797e+01\n",
      "  3.3355e+01  2.9098e+01  3.0230e+01  3.1961e+01  3.3930e+01  3.8810e+01\n",
      "  3.9071e+01  2.9344e+01  3.1022e+01  3.0762e+01  3.2673e+01  3.5838e+01\n",
      "  3.5714e+01  2.9554e+01  3.0451e+01  3.3585e+01  4.2530e+01  3.6148e+01\n",
      "  3.3271e+01  3.3346e+01  3.2183e+01  3.4893e+01  3.8270e+01  4.3740e+01\n",
      "  4.1406e+01  2.9640e+01  3.0353e+01  3.8857e+01  3.5510e+01  3.7287e+01\n",
      "  3.8296e+01  3.4941e+01  3.3885e+01  3.5779e+01  4.0245e+01  4.0248e+01\n",
      "  3.8368e+01  3.3983e+01  3.7400e+01  3.4548e+01  3.6530e+01  4.0343e+01\n",
      "  3.6454e+01  3.6782e+01  3.8283e+01  3.8735e+01  4.0653e+01  3.9708e+01\n",
      "  3.9239e+01  3.8383e+01  4.2972e+01  4.2161e+01  3.5049e+01  3.3162e+01\n",
      "  3.5581e+01  3.7430e+01  3.9813e+01  3.9247e+01  3.9728e+01  3.1033e+01\n",
      "  3.2222e+01  3.7046e+01  3.9129e+01  3.5943e+01  3.3776e+01  3.6352e+01\n",
      "  3.9448e+01  3.7659e+01  4.1039e+01  4.2621e+01  3.9899e+01  3.7242e+01\n",
      "  3.9423e+01  4.2148e+01  3.8350e+01  3.9678e+01  3.8428e+01  3.7641e+01\n",
      "  3.8518e+01  4.0444e+01  4.2637e+01  4.2890e+01  3.9842e+01  3.8063e+01\n",
      "  4.5393e+01  4.2230e+01  3.6850e+01  3.4000e+01  3.1995e+01  3.9678e+01\n",
      "  4.0322e+01  3.8299e+01  3.9822e+01  3.3687e+01  3.4790e+01  4.0173e+01\n",
      "  4.5048e+01  4.1772e+01  3.7480e+01  3.1595e+01  3.7476e+01  4.1542e+01\n",
      "  4.1267e+01  3.9865e+01  3.6952e+01  3.4224e+01  3.6178e+01  3.7823e+01\n",
      "  3.9378e+01  3.9889e+01  3.3338e+01  3.0471e+01  3.5110e+01  3.9936e+01\n",
      "  4.1176e+01  3.8431e+01  3.6144e+01  3.4690e+01  4.0248e+01  4.5170e+01\n",
      "  4.3719e+01  4.1874e+01  3.3686e+01  3.3578e+01  3.8055e+01  4.3572e+01\n",
      "  4.3236e+01  3.5092e+01  3.6129e+01  3.4444e+01  3.9539e+01  4.2640e+01\n",
      "  4.2418e+01  3.9284e+01  3.8163e+01  3.4598e+01  4.7608e+01  4.6914e+01\n",
      "  4.4099e+01  4.2532e+01  4.3649e+01  4.4512e+01  4.6045e+01  4.4479e+01\n",
      "  4.0805e+01  4.0075e+01  3.9128e+01  4.1958e+01  4.1684e+01  4.3537e+01\n",
      "  4.1873e+01  3.9722e+01  4.1310e+01  4.3133e+01  4.6108e+01  4.3833e+01\n",
      "  4.5367e+01  4.0929e+01  4.0218e+01  4.1408e+01  4.5109e+01  4.6782e+01\n",
      "  3.9959e+01  3.7014e+01  4.3300e+01  4.6806e+01  4.7920e+01  4.7807e+01\n",
      "  4.4207e+01  4.1744e+01  4.3420e+01  4.7160e+01  5.0681e+01  4.4919e+01\n",
      "  4.0367e+01  4.2929e+01  4.5118e+01  4.5689e+01  4.4663e+01  4.5342e+01\n",
      "  4.7486e+01  4.2100e+01  4.3249e+01  4.9054e+01  5.0521e+01  5.0872e+01\n",
      "  4.7385e+01  4.5572e+01  4.7725e+01  5.2392e+01  5.4612e+01  4.9072e+01\n",
      "  4.7717e+01  4.5529e+01  4.7815e+01  5.3281e+01  4.9670e+01  4.6804e+01\n",
      "  4.4362e+01  4.0969e+01  4.7757e+01  5.3975e+01  5.5593e+01  4.6778e+01\n",
      "  4.4410e+01  4.5048e+01  4.8946e+01  5.1155e+01  5.2445e+01  4.7637e+01\n",
      "  4.7886e+01  4.7052e+01  5.1580e+01  5.4411e+01  5.3459e+01  4.8085e+01\n",
      "  4.7768e+01  4.7159e+01  4.5609e+01  5.1799e+01  4.5643e+01  4.3744e+01\n",
      "  4.2101e+01  4.1289e+01  4.3389e+01  5.0207e+01  4.8644e+01  4.4359e+01\n",
      "  4.1752e+01  3.9505e+01  4.5523e+01  4.6710e+01  4.6378e+01  4.3697e+01\n",
      "  4.0982e+01  4.0300e+01  4.4662e+01  4.7201e+01  4.7187e+01  4.1440e+01\n",
      "  3.8671e+01  3.9518e+01  4.4206e+01  4.5412e+01  4.5280e+01  3.9800e+01\n",
      "  4.1557e+01  4.3163e+01  4.5706e+01  5.0555e+01  5.0808e+01  4.5211e+01\n",
      "  4.4620e+01  4.6044e+01  4.8313e+01  5.4542e+01  5.1560e+01  4.8223e+01\n",
      "  4.6675e+01  4.6301e+01  4.8946e+01  5.3601e+01  5.3873e+01  4.6868e+01\n",
      "  4.3966e+01  4.4503e+01  5.2976e+01  5.3361e+01  4.9629e+01  4.9055e+01\n",
      "  5.2347e+01  5.2941e+01  5.7706e+01  5.6782e+01  5.5625e+01  5.1414e+01\n",
      "  4.7582e+01  5.2364e+01  5.8445e+01  5.5289e+01  5.3588e+01  5.1866e+01\n",
      "  5.1332e+01  5.5218e+01  5.5853e+01  5.7417e+01  6.0042e+01  5.3652e+01\n",
      "  5.4744e+01  6.1520e+01  6.4036e+01  6.2167e+01  6.0084e+01  5.2457e+01\n",
      "  5.6472e+01  5.7840e+01  6.4715e+01  6.3351e+01  6.0250e+01  5.6492e+01\n",
      "  5.7590e+01  5.9402e+01  6.3109e+01  6.3789e+01  6.1879e+01  5.8643e+01\n",
      "  6.1884e+01  6.2016e+01  6.4429e+01  6.4064e+01  6.1214e+01  5.8170e+01\n",
      "  5.7851e+01  6.3721e+01  6.6343e+01  5.8955e+01  5.5192e+01  5.7876e+01\n",
      "  6.1515e+01  6.1074e+01  5.8805e+01  5.7689e+01  5.4870e+01  5.8101e+01\n",
      "  6.0022e+01  6.1382e+01  6.2424e+01  5.9200e+01  5.2135e+01  5.5359e+01\n",
      "  6.0042e+01  6.0242e+01  5.5331e+01  5.4693e+01  6.1385e+01  6.1570e+01\n",
      "  6.2520e+01  6.3541e+01  6.0282e+01  5.5061e+01  5.9113e+01  6.2941e+01\n",
      "  6.4227e+01  6.2229e+01  5.7718e+01  6.0543e+01  6.3249e+01  6.5995e+01\n",
      "  6.7551e+01  6.2771e+01  6.0095e+01  5.9388e+01  6.1750e+01  6.1933e+01\n",
      "  6.1834e+01  6.0339e+01  6.0689e+01  5.9022e+01  6.0570e+01  6.7971e+01\n",
      "  6.7481e+01  6.5447e+01  6.0472e+01  6.1551e+01  6.6438e+01  7.0194e+01\n",
      "  6.7712e+01  6.5880e+01  5.8042e+01  6.0762e+01  6.7382e+01  6.8833e+01\n",
      "  6.5372e+01  6.5105e+01  5.9490e+01  6.1716e+01  7.0859e+01  7.0662e+01\n",
      "  6.6797e+01  6.4925e+01  6.2215e+01  6.8658e+01  6.9780e+01  7.5003e+01\n",
      "  7.4785e+01  6.8209e+01  6.5948e+01  7.1000e+01  7.2436e+01  7.5474e+01\n",
      "  7.5191e+01  6.8381e+01  6.7539e+01  7.1791e+01  7.4371e+01  7.8257e+01\n",
      "  7.7929e+01  7.2915e+01  7.2868e+01  7.4713e+01  7.7510e+01  7.8428e+01\n",
      "  7.9400e+01  7.8079e+01  7.5283e+01  7.6189e+01  8.0873e+01  8.2626e+01\n",
      "  8.2599e+01  7.7473e+01  7.4308e+01  7.9011e+01  8.1126e+01  7.9427e+01\n",
      "  7.5940e+01  7.2098e+01  7.4429e+01  8.0773e+01  7.9844e+01  8.2448e+01\n",
      "  8.0407e+01  7.7934e+01  7.5219e+01  7.9909e+01  8.1196e+01  8.2960e+01\n",
      "  7.9048e+01  7.3318e+01  7.3027e+01  7.4529e+01  7.9459e+01  8.1039e+01\n",
      "  8.1482e+01  7.5442e+01  7.4733e+01  7.6437e+01]\n"
     ]
    },
    {
     "name": "stderr",
     "output_type": "stream",
     "text": [
      "<ipython-input-25-77affb21e899>:2: ParserWarning: Falling back to the 'python' engine because the 'c' engine does not support regex separators (separators > 1 char and different from '\\s+' are interpreted as regex); you can avoid this warning by specifying engine='python'.\n",
      "  M =  pd.read_csv('MSL_Global_1993_2016.txt', sep='\\s* ',header=None)\n"
     ]
    },
    {
     "data": {
      "text/plain": [
       "Text(0.5, 1.0, 'Mean Sea Level (MSL) from 1993-2016')"
      ]
     },
     "execution_count": 25,
     "metadata": {},
     "output_type": "execute_result"
    },
    {
     "data": {
      "image/png": "[encoded data removed]",
      "text/plain": [
       "<Figure size 432x288 with 1 Axes>"
      ]
     },
     "metadata": {
      "needs_background": "light"
     },
     "output_type": "display_data"
    }
   ],
   "source": [
    "#import the data\n",
    "\n",
    "\n",
    "#check the data\n",
    "\n",
    "\n",
    "#make a date variable\n",
    "\n",
    "\n",
    "#make a MSL variable\n",
    "\n",
    "\n",
    "#plot the data\n"
   ]
  }
 ],
 "metadata": {
  "kernelspec": {
   "display_name": "Python 3",
   "language": "python",
   "name": "python3"
  },
  "language_info": {
   "codemirror_mode": {
    "name": "ipython",
    "version": 3
   },
   "file_extension": ".py",
   "mimetype": "text/x-python",
   "name": "python",
   "nbconvert_exporter": "python",
   "pygments_lexer": "ipython3",
   "version": "3.8.5"
  }
 },
 "nbformat": 4,
 "nbformat_minor": 4
}
