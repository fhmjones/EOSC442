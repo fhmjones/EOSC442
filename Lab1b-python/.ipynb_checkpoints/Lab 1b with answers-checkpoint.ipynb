{
 "cells": [
  {
   "cell_type": "markdown",
   "metadata": {},
   "source": [
    "# Lab 1 - Part 2: Environmental Data Sets\n",
    "\n",
    "## *Lab Overview*\n",
    "\n",
    "This is the second part of Lab 1; it’s purpose is to show you some ways to import real data sets into Python. Real data sets are often large, come in a variety of formats, and can be finicky to deal with. Therefore, it may take you a few tries to get this working: be creative and persistent!\n",
    "\n",
    "## *Learning Goals*\n",
    "After this lab you should be able to :\n",
    "- Load a variety of real data sets into Python\n",
    "- Create and use a mask to remove missing values from data\n",
    "- Create a vector of datenumbers using a for-loop\n",
    "- Generate x-y plots of loaded data with appropriate axes and figure captions\n",
    "\n",
    "## *To Hand In*\n",
    "\n",
    "1. A plot of the Mauna Loa CO2 time series.\n",
    "2. A plot of the MEI index.\n",
    "3. A plot of the data you downloaded for the pre-lab.\n",
    "4. A figure caption for the plot of your data set.\n",
    "\n",
    "## 1. Mauna Loa CO2 time series\n",
    "\n",
    "First you will make your own plot of the Mauna Loa data which you saw on the first day of class. \n",
    "\n",
    "Before you begin, remember to create a new sub-directory (folder) in your Z: drive where you will be able to save all files from this lab session. Ensure MATLAB is working in this directory. **will need to see how we do this for notebooks**\n",
    "\n",
    "\n",
    "Download the file `monthly_maunaloa_co2.csv` from the class website on Connect. This contains atmospheric CO2 data recorded at the Mauna Loa Observatory. Save the file in the correct directory.\n",
    "\n",
    "Now open the file in a excel file text editor **original doc has a note on this to use vim?** and observe how the data is organized. Notice the detailed header; we’ll have to tell Python to ignore the header, but you should at least scan it so you know what the data represents. How many header lines are there? What do the columns represent?\n",
    "\n",
    "First, we are going to load the data from the file into Python with the help of the Pandas Library. Start of by running the cell bellow and importing the library:"
   ]
  },
  {
   "cell_type": "code",
   "execution_count": null,
   "metadata": {},
   "outputs": [],
   "source": [
    "#library to help us manipulate data\n",
    "import pandas as pd"
   ]
  },
  {
   "cell_type": "markdown",
   "metadata": {},
   "source": [
    "We will then read and save the data using the pandas.read_csv() function. We will use the following input arguments with this funciton:\n",
    "\n",
    "- The file name\n",
    "- the row numbers where the headers are located in the CSV file (note that python is zero-indexed so we will enter the row number from the CSV file -1)\n",
    "- which rows we dont want to save as column headers or data points\n",
    "\n",
    "complete the code below and run the cell:"
   ]
  },
  {
   "cell_type": "code",
   "execution_count": null,
   "metadata": {},
   "outputs": [],
   "source": [
    "muana_loa_data = pd.read_csv(r\"monthly_maunaloa_co2.csv\", header= [54], skiprows = [55,56])"
   ]
  },
  {
   "cell_type": "markdown",
   "metadata": {},
   "source": [
    "This snippet of code will create the DataFrame ‘mauna_loa_data’ containing ten columns, one for each column in the CSV file.\n",
    "\n",
    "DataFrames are data structures in python that resemble spreadsheets. Each row of the DataFrame will be automatically indexed starting at 0, and each column will adopt the header name in the original CSV file. Each cell contains the data for the CSV file in the form of an object as interpreted by python. \n",
    "\n",
    "Its a good habit to make sure everything was parsed correctly, there are several functions that may help us when dealing with dataframes. Lets take a look:"
   ]
  },
  {
   "cell_type": "code",
   "execution_count": null,
   "metadata": {},
   "outputs": [],
   "source": [
    "#we can print the whole datasets, notice how it resembels a spreadsheet\n",
    "print(muana_loa_data)"
   ]
  },
  {
   "cell_type": "markdown",
   "metadata": {},
   "source": [
    "Sometimes we dont want to print the whole dataset, especially when dealing with large datasets. We can instead do the following:"
   ]
  },
  {
   "cell_type": "code",
   "execution_count": null,
   "metadata": {},
   "outputs": [],
   "source": [
    "#If we put any number n as an input, we can see the first n rows of our data set. \n",
    "print(muana_loa_data.head(3))"
   ]
  },
  {
   "cell_type": "code",
   "execution_count": null,
   "metadata": {},
   "outputs": [],
   "source": [
    "#if we dont put an input to the function we get the first five rows back as default.\n",
    "print(muana_loa_data.head())"
   ]
  },
  {
   "cell_type": "code",
   "execution_count": null,
   "metadata": {},
   "outputs": [],
   "source": [
    "#we can use the .head function with input 0 to see the column names\n",
    "print(muana_loa_data.head(0))"
   ]
  },
  {
   "cell_type": "markdown",
   "metadata": {},
   "source": [
    "Lets also take a look at how Python interpereted our data, this may be useful later on:"
   ]
  },
  {
   "cell_type": "code",
   "execution_count": null,
   "metadata": {},
   "outputs": [],
   "source": [
    "print(muana_loa_data.dtypes) "
   ]
  },
  {
   "cell_type": "markdown",
   "metadata": {},
   "source": [
    "You might notice that our column names have inconsistent spacing. This is because the pandas library will literally read the CSV file. We might want to get rid of these whitespaces to make it easier to access the data later on. We can use the replace function to do so:"
   ]
  },
  {
   "cell_type": "code",
   "execution_count": null,
   "metadata": {},
   "outputs": [],
   "source": [
    "#replacing all spaces with an empty string\n",
    "muana_loa_data.columns = muana_loa_data.columns.str.replace(' ','')\n",
    "\n",
    "#lets see how our column names look now\n",
    "print(muana_loa_data.head(0))"
   ]
  },
  {
   "cell_type": "markdown",
   "metadata": {},
   "source": [
    "Now that we made our DataFrame a bit easier to use we can plot the data with the help of the matplotlib library. Start off by importing the pyplot library:"
   ]
  },
  {
   "cell_type": "code",
   "execution_count": null,
   "metadata": {},
   "outputs": [],
   "source": [
    "import matplotlib.pyplot as plt"
   ]
  },
  {
   "cell_type": "markdown",
   "metadata": {},
   "source": [
    "We can now save the values we want to plot. We are going to take the contents of the cells we are interested in and assign these to their own variables. We want cells 4 and 5, to contain the date and measured CO2. If we look at our outputs from above we can see the respective names are \"Date\" and \"CO2\""
   ]
  },
  {
   "cell_type": "code",
   "execution_count": null,
   "metadata": {},
   "outputs": [],
   "source": [
    "co2_date =muana_loa_data[\"Date\"].values\n",
    "co2 = muana_loa_data['CO2'].values\n",
    "\n",
    "#lets take a look at our variable\n",
    "print(co2_date)\n",
    "print(co2)"
   ]
  },
  {
   "cell_type": "markdown",
   "metadata": {},
   "source": [
    "You may notice our co2 and date variable contains two columns. this is because we had two different columns with the same name. lets fix this up and keep only the colums we want **this is an issue with the data**"
   ]
  },
  {
   "cell_type": "code",
   "execution_count": null,
   "metadata": {},
   "outputs": [],
   "source": [
    "co2_date = co2_date[:,1]\n",
    "co2=co2[:,0]"
   ]
  },
  {
   "cell_type": "markdown",
   "metadata": {},
   "source": [
    "Lets do all this again for the seasonally adjusted data: **lab doesnt ask for this but TA code does do this**"
   ]
  },
  {
   "cell_type": "code",
   "execution_count": null,
   "metadata": {},
   "outputs": [],
   "source": [
    "co2sa = muana_loa_data[\"seasonally\"].values\n",
    "co2sa = co2sa[:,0] # https://stackoverflow.com/questions/40557910/plt-plot-meaning-of-0-and-1 explanation of this notation, good to use in lab 1a\n",
    "co2fit = muana_loa_data[\"fit\"].values\n",
    "co2safit = muana_loa_data[\"seasonally\"].values\n",
    "co2safit = co2safit[:,1]"
   ]
  },
  {
   "cell_type": "markdown",
   "metadata": {},
   "source": [
    "Now that weve succesfully wrangled all our data, we can finally plot it"
   ]
  },
  {
   "cell_type": "code",
   "execution_count": null,
   "metadata": {},
   "outputs": [],
   "source": [
    "#the first input of our .plot function will be our x axis, the second input will be our y axis\n",
    "plt.plot(co2_date,co2) #plotting data\n",
    "plt.show"
   ]
  },
  {
   "cell_type": "markdown",
   "metadata": {},
   "source": [
    "As you can see the pyplot automatically puts x and y ticks, however, we might want to add things such as labels for our axis, a title, or maybe even change the color of the plot"
   ]
  },
  {
   "cell_type": "code",
   "execution_count": null,
   "metadata": {},
   "outputs": [],
   "source": [
    "# the 'r' here specifies we want our plot line to be red\n",
    "plt.plot(co2_date,co2,'r')"
   ]
  },
  {
   "cell_type": "code",
   "execution_count": null,
   "metadata": {},
   "outputs": [],
   "source": [
    "#you can have alot more fun with styling, some examples:\n",
    "'b'    # blue markers with default shape\n",
    "'or'   # red circles\n",
    "'-g'   # green solid line\n",
    "'--'   # dashed line with default color\n",
    "'^k:'  # black triangle_up markers connected by a dotted line\n",
    "\n",
    "# take a look at the function documentation for more styling options:\n",
    "# https://matplotlib.org/stable/api/_as_gen/matplotlib.pyplot.plot.html"
   ]
  },
  {
   "cell_type": "markdown",
   "metadata": {},
   "source": [
    "Lets add our title and axis labels **note plt.show() is not necessary using jupyter. will probably remove, but good to discuss**"
   ]
  },
  {
   "cell_type": "code",
   "execution_count": null,
   "metadata": {},
   "outputs": [],
   "source": [
    "plt.plot(co2_date,co2,'r')\n",
    "#setting the title\n",
    "plt.title('Raw CO2 Data vs. Time with missing data')\n",
    "#setting the x axis label\n",
    "plt.xlabel('Date')\n",
    "#setting the yaxis label\n",
    "plt.ylabel('CO2 (ppm)')\n",
    "plt.show() "
   ]
  },
  {
   "cell_type": "markdown",
   "metadata": {},
   "source": [
    "Notice the negative values in the time series. These are missing values. Go back to the header, determine how missing values are indicated, and remove these from the data set using the masking technique you learned in Part 1 of this lab. Then make a new plot, adding the correct labels on the x- and y-axes.\n",
    "\n",
    "Save the plot to a PDF or JPG file. Please print and submit this figure."
   ]
  },
  {
   "cell_type": "code",
   "execution_count": null,
   "metadata": {},
   "outputs": [],
   "source": [
    "#import the masking library\n",
    "import numpy.ma as ma\n",
    "#importing numpy\n",
    "import numpy as np"
   ]
  },
  {
   "cell_type": "markdown",
   "metadata": {},
   "source": [
    "**masking is a bit weird here. my IDE was different, will go over it again.\n",
    "It seems like the way jupyter is masking the data is different then my IDE/sources online (my idea masks the data, here it seems data is being removed or maybe plot is avoiding the masking)**"
   ]
  },
  {
   "cell_type": "code",
   "execution_count": null,
   "metadata": {},
   "outputs": [],
   "source": [
    "co2 = ma.masked_where(co2_date<0,co2)\n",
    "print(co2) ##looks like values are being removed not masked"
   ]
  },
  {
   "cell_type": "code",
   "execution_count": null,
   "metadata": {},
   "outputs": [],
   "source": [
    "#masking empty entries\n",
    "co2 = ma.masked_where(co2_date[:631]<0,co2) #masking data\n",
    "co2_date = ma.masked_where(co2<0,co2_date[:631]) #TA solution doesnt mask data data. May remove.\n",
    "co2 = ma.masked_where(co2<0,co2) #masking data\n",
    "co2_date = ma.masked_where(co2_date<0,co2_date) #TA solution doesnt mask data data. May remove.\n",
    "\n",
    "#Plotting all raw CO2 data with fitted curve overplotted\n",
    "plt.plot(co2_date,co2,'r-',label='CO2 Raw') #plotting data\n",
    "plt.title('Raw CO2 Data vs. Time')\n",
    "plt.legend()\n",
    "plt.ylabel('CO2 (ppm)')\n",
    "plt.xlabel('Date')\n",
    "plt.show()"
   ]
  },
  {
   "cell_type": "markdown",
   "metadata": {},
   "source": [
    "**TA code also plots fitted data on top**"
   ]
  },
  {
   "cell_type": "code",
   "execution_count": null,
   "metadata": {},
   "outputs": [],
   "source": [
    "#masking empty entries\n",
    "co2fit = ma.masked_where(co2_date<0,co2fit[:631])\n",
    "co2fit = ma.masked_where(co2<0,co2fit)\n",
    "co2fit = ma.masked_where(co2fit<0,co2fit)\n",
    "co2 = ma.masked_where(co2_date[:631]<0,co2) #masking data\n",
    "co2_date = ma.masked_where(co2<0,co2_date[:631]) #TA solution doesnt mask data data. May remove.\n",
    "co2 = ma.masked_where(co2<0,co2) #masking data\n",
    "co2_date = ma.masked_where(co2_date<0,co2_date) #TA solution doesnt mask data data. May remove.\n",
    "\n",
    "\n",
    "#Plotting all raw CO2 data with fitted curve overplotted\n",
    "plt.plot(co2_date,co2,'r-',label='CO2 Raw') #plotting data\n",
    "plt.plot(co2_date,co2fit,'k-',label='CO2 Fit')\n",
    "plt.title('Raw CO2 Data vs. Time')\n",
    "plt.legend()\n",
    "plt.ylabel('CO2 (ppm)')\n",
    "plt.xlabel('Date')\n",
    "plt.show()"
   ]
  },
  {
   "cell_type": "markdown",
   "metadata": {},
   "source": [
    "**TA code also plots seasonally adjusted data**"
   ]
  },
  {
   "cell_type": "code",
   "execution_count": null,
   "metadata": {},
   "outputs": [],
   "source": [
    "#masking data\n",
    "co2sa = ma.masked_where(co2sa<0,co2sa)\n",
    "co2safit = ma.masked_where(co2safit<0,co2safit)\n",
    "\n",
    "#plotting seasonally adjusted CO2 data with fitted curve overplotted\n",
    "plt.plot(co2_date,co2sa[:631],'g-',label='co2sa') #plotting data\n",
    "plt.plot(co2_date,co2safit[:631],'k-',label='co2sa')\n",
    "plt.legend()\n",
    "plt.title('Seasonally Adjusted CO2 Data vs. Time')\n",
    "plt.ylabel('CO2 SA fit (ppm)')\n",
    "plt.xlabel('Date')\n",
    "plt.show()"
   ]
  },
  {
   "cell_type": "markdown",
   "metadata": {},
   "source": [
    "## 2. MEI Index\n",
    "Now we are going to import and plot a time series of the Multivariate ENSO Index (MEI), a climate index which represents the state of the El Niño-Southern Oscillation. The MEI gives an indication of whether the tropical Pacific is in an El Niño (warm water, positive MEI) or a La Niña (cold water, negative MEI) state.\n",
    "\n",
    "From the class website, download the file MEI.html and place it in your working directory. As before, open the file in a text editor and observe how the raw data is organized. This is always your first step.\n",
    "\n",
    "Notice, that there are 13 header lines, 63 rows of data, all followed by some useful tips at the end of the file. Each row represents a year and each column a month within that year.\n",
    "\n",
    "**Original: Though we could again use textscan() to upload the data, we will use a different approach this time. In the future, feel free to use whichever suits you better.**\n",
    "\n",
    "**should i also try using a differnet method above**\n",
    "\n",
    "Begin by making a copy of the file and renaming it something like MEI_data_only.txt. Now, in this new file, simply delete all the header lines as well as the trailing information, leaving you with only the 63 lines of data. Make sure to save.\n",
    "Notice that the last line of data doesn’t contain the same number of columns as all the others. This is because we don’t have data from Aug-Dec 2012.\n",
    "\n",
    "**Original: However, when we use the load command (below) missing data cannot be indicated with blank spaces because, as we’ve seen before, MATLAB ignores white space. Therefore, manually enter the five missing data points as NaN which simply stands for ‘not-a-number’. The final line in your data file should now look like this:\n",
    "2012 -1.046 -.702 -.41 .059 .706 .903 1.139 NaN NaN NaN NaN NaN ** \n",
    "**I believe this is not really applicable here**\n",
    "\n",
    "Don’t worry if the numbers aren’t evenly spaced or if we have missing values, Pandas will take care of everything for us behind the scenes.\n",
    "\n",
    "Now with a text file containing only data and no extra information, We can load that data using the read_csv function from before, but with slightly different inputs:"
   ]
  },
  {
   "cell_type": "code",
   "execution_count": null,
   "metadata": {},
   "outputs": [],
   "source": [
    "#We will add the sep=’\\t’ to specify that our data is separated by \\t\n",
    "\n",
    "#We will add the index_col=0 input so our rows will be named the same as the 0th row on the file.\n",
    "#with .txt files If we dont do this, Python will automatically number the rows from 0 to n\n",
    "#and our colum headers will be used as data.\n",
    "\n",
    "#We will add header=None so the first row of data wont be interpreted as the column names\n",
    "\n",
    "M = pd.read_csv('MEI_data_only.txt', sep='\\t',index_col=0,header=None)"
   ]
  },
  {
   "cell_type": "markdown",
   "metadata": {},
   "source": [
    "With this, M is a matrix containing all the data from the text file. Try printing it to see how it is organized. "
   ]
  },
  {
   "cell_type": "code",
   "execution_count": null,
   "metadata": {},
   "outputs": [],
   "source": [
    "print(M)"
   ]
  },
  {
   "cell_type": "markdown",
   "metadata": {},
   "source": [
    "This complete, there are two challenges left before we can plot this data. First, we need to reshape the DataFrame into a one-dimensional array (call this mei) so that it can be plotted. Secondly, since our data only has year information but no month information, we need to create an appropriate array (called dates) the same size as mei to represent the date, both year and month. The first step is quite easy as Python has built-in functions to reshape DataFrames "
   ]
  },
  {
   "cell_type": "code",
   "execution_count": null,
   "metadata": {},
   "outputs": [],
   "source": [
    "#reshaping array\n",
    "mei=M.to_numpy().flatten()\n",
    "\n",
    "#seing whats up\n",
    "print(mei)"
   ]
  },
  {
   "cell_type": "markdown",
   "metadata": {},
   "source": [
    "Now that you have a single one-dimensional array containing your data points, you need to make an array holding the corresponding dates. To do this, you can use the method outlined below. But before, a bit about dates in Python\n",
    "\n",
    "### Dates in Python\n",
    "In order to make a proper time series in Python, you have to understand a little about how the program stores and displays dates. Python has a module called datetime which allow you to create complex data structures that represent dates. First lets import the module:"
   ]
  },
  {
   "cell_type": "code",
   "execution_count": null,
   "metadata": {},
   "outputs": [],
   "source": [
    "import datetime "
   ]
  },
  {
   "cell_type": "markdown",
   "metadata": {},
   "source": [
    "now lets get to know the module:"
   ]
  },
  {
   "cell_type": "code",
   "execution_count": null,
   "metadata": {},
   "outputs": [],
   "source": [
    "#This call returns today’s date. \n",
    "print(\"todays date \" + str(datetime.date.today()))\n",
    "\n",
    "#We can also get the time right now:\n",
    "print(\"the time right now \" + str(datetime.datetime.now()))\n",
    "\n",
    "#And finally, we can also create our own datetime object :\n",
    "x=datetime.datetime(2022,2,2)\n",
    "print(\"the date we created is \"+ str(x))\n",
    "\n",
    "#Creating such objects will allow us to have some functionality with our date data, for example we can change dates:\n",
    "x = x.replace(year=2019)\n",
    "print(\"and now it is \" + str(x))"
   ]
  },
  {
   "cell_type": "markdown",
   "metadata": {},
   "source": [
    "Having this sort of functionality is especially important when we want to create a time series. You will see why in following labs.\n",
    "\n",
    "Lets go ahead and create an array that holds the different dates the data was collected in:"
   ]
  },
  {
   "cell_type": "code",
   "execution_count": null,
   "metadata": {},
   "outputs": [],
   "source": [
    "dates =[]\n",
    "for i in range(1950,2013):\n",
    "    for j in range(1,13):\n",
    "        dates.append(datetime.datetime(i, j, 1))\n",
    "        \n",
    "#taking a peak at the data        \n",
    "print(dates[:5])"
   ]
  },
  {
   "cell_type": "markdown",
   "metadata": {},
   "source": [
    " Once we’ve done this, we can make a plot of the MEI index (remember to label your axes) and submit this figure:"
   ]
  },
  {
   "cell_type": "code",
   "execution_count": null,
   "metadata": {},
   "outputs": [],
   "source": [
    "plt.plot(dates,mei)\n",
    "plt.title(\"Monthly MEI index from 1950-2012\")\n",
    "plt.ylabel(\"MEI index\")\n",
    "plt.xlabel(\"Date\")\n",
    "plt.show()"
   ]
  },
  {
   "cell_type": "markdown",
   "metadata": {},
   "source": [
    "3. Import and Plot Your Data Set\n",
    "Import the data set you downloaded in the prelab and generate a plot from it.\n",
    "Since each of the data sets is organized differently, it is up to you to determine how to properly import it. However, feel free to show your data set to a lab TA and discuss challenges associated with importing the different data sets - some data sets are much easier to work with than others are.\n",
    "Write an m-file which will do the following:\n",
    "Load the data set you selected in the pre-lab assignment.\n",
    "Assign the data to appropriate MATLAB variables.\n",
    "Generate a plot of your data with any missing values removed. Give your plot an appropriate title and label your axes, including the correct units. If your data file contains more than one kind of measurement, choose only one variable to plot.\n",
    "Once the plot is completed, write a caption for the plot. The caption should include:\n",
    "A title for the graph\n",
    "A description of what data the plot is showing\n",
    "Axes labels including the units of the data\n",
    "Any information necessary for interpreting the plot correctly.\n",
    "Captions should be between 15 - 100 words long; the more complicated a plot is, the more description will be needed in the caption.\n",
    "For example, a figure caption for the first plot we created might look like this:\n",
    "Figure 1: Atmospheric CO2. CO2 concentrations in parts per million (ppm) recorded at the Mauna Loa Observatory from 1958 - 2011."
   ]
  },
  {
   "cell_type": "code",
   "execution_count": null,
   "metadata": {},
   "outputs": [],
   "source": []
  }
 ],
 "metadata": {
  "kernelspec": {
   "display_name": "Python 3",
   "language": "python",
   "name": "python3"
  },
  "language_info": {
   "codemirror_mode": {
    "name": "ipython",
    "version": 3
   },
   "file_extension": ".py",
   "mimetype": "text/x-python",
   "name": "python",
   "nbconvert_exporter": "python",
   "pygments_lexer": "ipython3",
   "version": "3.8.5"
  }
 },
 "nbformat": 4,
 "nbformat_minor": 4
}
