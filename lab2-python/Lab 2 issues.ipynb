{
 "cells": [
  {
   "cell_type": "markdown",
   "metadata": {},
   "source": [
    "## Pre Lab\n",
    "### section 2\n",
    "- not sure why it exists, these functions arent used in the lab?\n",
    "\n",
    "## Genral comment\n",
    "- i am trying my best to make sure outputs are the same for both matlab and python version, due to differences in indexing there are some changes, for example view for loop at end of prelab and compare it original foor loop\n",
    "\n",
    "## LAB\n",
    "### part 1\n",
    "- recomended two different parsing methods in MATLAB version, will use panda for now\n",
    "- doing this part in MATLAB has a lot of extra steps which are outlined in the lab manual. In python its relativley straightforward \n",
    "- do students know to use regex by now? parse_dates? etc."
   ]
  },
  {
   "cell_type": "code",
   "execution_count": null,
   "metadata": {},
   "outputs": [],
   "source": []
  }
 ],
 "metadata": {
  "kernelspec": {
   "display_name": "\"Python/Mu (mu_venv-38-20210628-155125)\"",
   "language": "python",
   "name": "mu_venv-38-20210628-155125"
  },
  "language_info": {
   "codemirror_mode": {
    "name": "ipython",
    "version": 3
   },
   "file_extension": ".py",
   "mimetype": "text/x-python",
   "name": "python",
   "nbconvert_exporter": "python",
   "pygments_lexer": "ipython3",
   "version": "3.8.5"
  }
 },
 "nbformat": 4,
 "nbformat_minor": 4
}
