{
 "cells": [
  {
   "cell_type": "markdown",
   "metadata": {},
   "source": [
    "# Pre-Lab 2: Local Climate - UBC Weather Station Data\n",
    "\n",
    "## *Lab Overview*\n",
    "\n",
    "This week, you will investigate some basic climate related variables as they were recorded right here at the UBC weather station. In this pre-lab, you will download the data, read a short introduction on specific Python skills we will need, and complete the online quiz. \n",
    "\n",
    "## *For submission*\n",
    "\n",
    "1.   Online worksheet to be completed on Connect\n",
    "\n",
    "## 1.\tDownload UBC Weather Station Data\n",
    "\n",
    "You can download any of the data recorded by the UBC Weather Station from the website located here: http://137.82.254.122/PlotTraces.aspx\n",
    "\n",
    "Spend a little time playing around with the interface and looking at the options available to you. Notice which variables are available for you to look at and the date ranges you can select.\n",
    "\n",
    "Download the maximum available daily time series for the variable Air Temperature. To do this, you’ll have to change the resolution to “Day” and set the date range to be as large as possible..\n",
    "\n",
    "This should give you one plain text file. Please bring it to the lab this week.\n",
    "\n",
    "Make sure to download the data before you come to the lab; the website is not very powerful, and may go down if everyone attempts to download the data at the same time.\n",
    "\n",
    "\n",
    "## 2.\tMATLAB Skills part 1: Mask, the find() function and NaNs.\n",
    "\n",
    "There is nothing to submit for this section of the lab, but it will be helpful for you to read through.\n",
    "\n",
    "In lab 1, we saw how to select or get rid of specific values, or ranges of values, using masks. An equivalent way to do this is to use the function find(). It is a very useful one to know how to use, and it will likely help you in the upcoming labs. Say you are given a vector A and you are interested in finding a specific value, for example 10. You want to know where all the ‘tens’ in your vector are, and how many of them there are. To use the find() function you can enter\n",
    "\n",
    "find(A==10)\n",
    "\n",
    "which will return the index locations of all occurrences of 10 in the vector A. If you want to know how many ‘tens’ there are, you could enter\n",
    "\n",
    "size(find(A==10))\n",
    "\n",
    "which just gives you the size of the vector returned by first call, ie. the number of ‘tens’ in your vector.\n",
    "Remember that if you want to find all the values not equal to 10 in A, you can use the “~” symbol to negate a statement:\n",
    "find(A~=10)\n",
    "\n",
    "\n",
    "which will return the index locations of all numbers unequal to 10 in the vector A.\n",
    "Note that A==10 is a mask, i.e., it is the same size as A and contains the logical value 1 where A==10 is true and 0 otherwise. The function find() transforms this vector of logical values into a list of indices, which are the indices for which the condition is true, i.e. where the mask is equal to 1. If you want to get these values, and not just their index, you can just pass the index list to the vector A:\n",
    "A(find(A~=10))\n",
    "\n",
    "Note that this is equivalent to\n",
    "A(A~=10)\n",
    "\n",
    "Searching for occurrences of NaN is slightly different. Because a NaN is not actually a number, you cannot use it in logical comparisons. So the expression A==NaN would return an error. In place of a logical equivalency, you can use the function isnan(). For example, to find the indices associated with each NaN in your array, you can use\n",
    "\n",
    "find(isnan(A))\n",
    "\n",
    "Similarly, to find the indices associated with each value that is not a NaN in your array, you can use:\n",
    "\n",
    "find(~isnan(A))\n",
    "\n",
    "Again, to get the values that are not NaNs, both A(find(~isnan(A))) and A(~isnan(A)) will do the job.\n",
    "\n",
    "Finally, remember that to combine two conditions, you can use the symbol “&” for AND and the symbol “|” for OR. For example, A(~isnan(A) & A<0) will return all values of A which are not NaN values and which are negative. A(A>=0 | A==-1) will return all positive values (not strictly, i.e. including 0) or values equal to -1 in A.\n",
    "\n",
    "## 3. Python Skills part 2: for loop.\n",
    "\n",
    "This Section gives a brief introduction to the concept of “for loop” in Python. Don’t forget to answer the online quiz to become a loop master!\n",
    "\n",
    "In lab 1 part 2, we used a for loop to create a date list associated the the MEI index, but did not really go over what loops are. The structure of a loop in matlab is always as follow:"
   ]
  },
  {
   "cell_type": "markdown",
   "metadata": {},
   "source": [
    "\n",
    "<code>for i in someSetOfValues:\n",
    "    #execute some command for each value in the set of values we are iterating over\n",
    "    # in each iteration over the set of values, we will refer to the value as i</code>\n",
    "    "
   ]
  },
  {
   "cell_type": "markdown",
   "metadata": {},
   "source": [
    "A for loop always starts with “for” followed by the name of the loop index, which I called “i” in this case (but you can give it any name). We will all set the values we will iterate over, for example this can be a lis or an array, or as we did in lab 1 part 2, a range of numbers. The keyword <code>in</code> will link them together. Finally, every for loop will end with a colon <code> : </code>. Don't forget the colon!\n",
    "\n",
    "Below this line starting the loop, you can write any command needed. These commands will be executed for each value of the loop index.\n",
    "\n",
    "For example, we can create a array of ones with 10 elements, and calculate five values:"
   ]
  },
  {
   "cell_type": "code",
   "execution_count": 3,
   "metadata": {},
   "outputs": [],
   "source": [
    "import numpy as np\n",
    "x = np.ones(10)\n",
    "for i in range(2,6):\n",
    "    x[i] = 2*x[i-1]\n",
    "\n"
   ]
  },
  {
   "cell_type": "markdown",
   "metadata": {},
   "source": [
    "Write down (on some paper) what you think the array x should be after this loop has been executed. Then, print x to verify your answer."
   ]
  },
  {
   "cell_type": "code",
   "execution_count": 2,
   "metadata": {},
   "outputs": [
    {
     "name": "stdout",
     "output_type": "stream",
     "text": [
      "[ 1.  1.  2.  4.  8. 16.  1.  1.  1.  1.]\n"
     ]
    }
   ],
   "source": [
    "print(x)"
   ]
  },
  {
   "cell_type": "markdown",
   "metadata": {},
   "source": [
    " Do the same with the next example:"
   ]
  },
  {
   "cell_type": "code",
   "execution_count": 15,
   "metadata": {},
   "outputs": [],
   "source": [
    "x = np.ones(6);\n",
    "for i in range(int(np.size(x)/2)):\n",
    "    x[i] = (i+1)/3;"
   ]
  },
  {
   "cell_type": "code",
   "execution_count": 16,
   "metadata": {},
   "outputs": [
    {
     "name": "stdout",
     "output_type": "stream",
     "text": [
      "[0.33333333 0.66666667 1.         1.         1.         1.        ]\n"
     ]
    }
   ],
   "source": [
    "print(x)"
   ]
  },
  {
   "cell_type": "markdown",
   "metadata": {},
   "source": [
    "Last, we may have to use nested loop in Python, i.e., a for loop inside a for loop. The structure is the same, **but it is very important to make sure that you have different names for the indices of your two loops. Moreover notice the identation of the nested function, as Python uses indentation to indicate a block of code.:**\n",
    "For example:\n",
    "<code>\n",
    "for i in someSetOfValues:\n",
    "    for j in someOtherSet:\n",
    "        print(j+i)\n",
    "<\\code>\n",
    "\n",
    "Nested loop will often be used, for example, to create or modify multi-dimensional arrys. For example, try to guess what the matrix A would be if one execute the following command lines:\n",
    "    "
   ]
  },
  {
   "cell_type": "code",
   "execution_count": 39,
   "metadata": {},
   "outputs": [
    {
     "name": "stdout",
     "output_type": "stream",
     "text": [
      "4\n"
     ]
    }
   ],
   "source": [
    "A=np.zeros((4,2))\n",
    "print(np.size(A,0))\n",
    "for i in range(0,np.size(A,0),2):\n",
    "    for j in range(2):\n",
    "        A[i,j]=2*(i+1)+0.5*(j+1)"
   ]
  },
  {
   "cell_type": "markdown",
   "metadata": {},
   "source": [
    "Again, verify your answer to make sure you understood. Don’t forget to answer the online quiz on connect!"
   ]
  },
  {
   "cell_type": "code",
   "execution_count": 40,
   "metadata": {},
   "outputs": [
    {
     "name": "stdout",
     "output_type": "stream",
     "text": [
      "[[2.5 3. ]\n",
      " [0.  0. ]\n",
      " [6.5 7. ]\n",
      " [0.  0. ]]\n"
     ]
    }
   ],
   "source": [
    "print(A)"
   ]
  }
 ],
 "metadata": {
  "kernelspec": {
   "display_name": "Python 3",
   "language": "python",
   "name": "python3"
  },
  "language_info": {
   "codemirror_mode": {
    "name": "ipython",
    "version": 3
   },
   "file_extension": ".py",
   "mimetype": "text/x-python",
   "name": "python",
   "nbconvert_exporter": "python",
   "pygments_lexer": "ipython3",
   "version": "3.8.5"
  }
 },
 "nbformat": 4,
 "nbformat_minor": 4
}
