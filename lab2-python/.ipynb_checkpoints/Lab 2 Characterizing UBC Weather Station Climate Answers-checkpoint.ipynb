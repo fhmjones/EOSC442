{
 "cells": [
  {
   "cell_type": "markdown",
   "metadata": {},
   "source": [
    "# Lab 2: Characterizing UBC Weather Station Climate\n",
    "\n",
    "## *Lab Overview*\n",
    "\n",
    "In this lab, you will learn various pre-processing and processing that can be applied to a climate \n",
    "time-series. We will use temperature data from the UBC weather station in order to characterize\n",
    "the climate of the Vancouver area. You will plot the daily mean, monthly mean, and monthly \n",
    "mean anomaly temperature time-series, as well as the seasonal cycle. The seasonal cycle will \n",
    "be characterized by monthly means, standard deviations, and minimum and maximum values \n",
    "for the daily mean temperature.\n",
    "\n",
    "You should have the data downloaded and ready to go from the pre-lab.\n",
    "\n",
    "## *Learning Goals*\n",
    "\n",
    "After completing this lab successfully, you will be able to:\n",
    "\n",
    "- Inspect a data set to ensure the data has been imported correctly and identify some expected and unexpected signals\n",
    "- Generate a monthly mean annual cycle from a larger time series, including the monthly standard deviation, and the minimum and maximum values\n",
    "- reduce a daily time series to a monthly one by calculating monthly averages\n",
    "- construct an anomaly time series\n",
    "\n",
    "## *To hand in*\n",
    "\n",
    "1. One figure containing plots of the daily air temperature, the monthly air temperature, and the monthly air temperature anomaly.\n",
    "2. A figure showing the monthly means, one standard deviation, minimum and maximumof daily temperature.\n",
    "3. Captions for each of the figures\n",
    "4. The worksheet for this lab\n",
    "\n",
    "## 1. Load the data\n",
    "\n",
    "Look at the time series you downloaded during the pre-lab in a text editor: it should start \n",
    "sometime in the late 1950’s or early 1960’s and have data recorded once per day. If this is not \n",
    "the case, you likely downloaded the data incorrectly.\n",
    "\n",
    "Load the time series using the pandas <code> .read_csv </code> function. Remember that you need to \n",
    "convert the date strings, which you initially loaded into Python into the ‘datetime’ format. The easiest way to check that your data has loaded correctly is to plot it."
   ]
  },
  {
   "cell_type": "code",
   "execution_count": null,
   "metadata": {},
   "outputs": [],
   "source": [
    "import pandas as pd\n",
    "import matplotlib.pyplot as plt\n",
    "\n",
    "#loading data\n",
    "#regex a bit different to deal with spacing\n",
    "#using parse_dates to save as date time\n",
    "data = pd.read_csv('DailyAirTempUBC19592018.txt', sep='\\s+ ',header=None,parse_dates=[0],names=['date','temp'])\n",
    "\n",
    "#checking data\n",
    "print(data.head(0))\n",
    "print(data)\n",
    "#checking parsing worked for dates\n",
    "print(data.dtypes)\n",
    "\n",
    "\n",
    "#plotting data\n",
    "plt.plot(data['date'],data['temp'])\n",
    "plt.xlabel('Date')\n",
    "plt.ylabel('Temperature (Celsius)')\n",
    "plt.title('Daily Temperature at UBC from 1959-2017')\n",
    "plt.show()"
   ]
  },
  {
   "cell_type": "markdown",
   "metadata": {},
   "source": [
    "## 2. Monthly averages, standard deviations, minimums and maximums.\n",
    "\n",
    "You will now generate monthly average of the air temperature for each of the 12 month over the \n",
    "entire period. We are asking you to do the following: \n",
    "**1) for each of the twelve months of the year, calculate the average of all the temperatures recorded during that month for the entire ~60 years for which you have data.**\n",
    "**2) for all the records taken during that specific month, calculate the standard deviation of those values, as well as the minimum recorded value and maximum recorded value.**\n",
    "\n",
    "What you are doing is collapsing fifty years worth of daily measurements into twelve data points,\n",
    "one for each month. The standard deviation will give you a measure of the variability around \n",
    "each of those data points, and the min and max values will give you an upper and lower bound.\n",
    "\n",
    "On a single figure, plot the following five curves characterizing the seasonal cycle: the average \n",
    "temperature, the average temperature minus – and plus – one standard deviation, the minimum \n",
    "temperature and the maximum temperature. Each curve should have 12 datapoints (one for \n",
    "each month). Include a legend with the function <code>legend()</code> to specify what you are plotting. In the\n",
    "Lab 2 folder on Connect, you will find an example of what the plot might look like. The example \n",
    "figure uses soil temperature measurements at UBC from the years 2000 to 2011. Don’t forget a \n",
    "caption for your figure - even though we haven’t included one in the example plot.\n",
    "\n",
    "When you are done, please hand in your final figure. ***Make sure you spend a few minutes \n",
    "thinking about your figure:*** does it look correct? Why? Do the result make sense given that \n",
    "the temperature data is recorded in Vancouver?\n",
    "\n",
    "A few hints that will help you accomplish your task:\n",
    "1. You will need to uses the <code>groupby()</code> function. This is where having our date colum saved as datetime datatype comes in handy. To get you started heres an example of how to calculate the average by month:"
   ]
  },
  {
   "cell_type": "code",
   "execution_count": null,
   "metadata": {},
   "outputs": [],
   "source": [
    "mean_by_month=data.groupby(data.date.dt.month)['temp'].mean()\n",
    "print(mean_by_month)"
   ]
  },
  {
   "cell_type": "markdown",
   "metadata": {},
   "source": [
    "For more examples on how to use the groupby functions, visit the Python documentation: https://pandas.pydata.org/docs/reference/api/pandas.DataFrame.groupby.html\n",
    "\n",
    "2. Similar to the function above, make use of the <code> .std() </code>, <code> .min </code>, <code> .max </code> functions\n",
    "\n",
    "extrapolte and polt the rest of the data below"
   ]
  },
  {
   "cell_type": "code",
   "execution_count": null,
   "metadata": {},
   "outputs": [],
   "source": [
    "std_by_month = data.groupby(data.date.dt.month)['temp'].std()\n",
    "min_by_month = data.groupby(data.date.dt.month)['temp'].min()\n",
    "max_by_month = data.groupby(data.date.dt.month)['temp'].max()\n",
    "\n",
    "plt.plot(mean_by_month,'b-s',label=\"mean\")\n",
    "plt.plot(mean_by_month+std_by_month,'r--',label=\"mean+std\")\n",
    "plt.plot(mean_by_month-std_by_month,'r--',label=\"mean-std\")\n",
    "plt.plot(min_by_month,'k:',label=\"min\")\n",
    "plt.plot(max_by_month,'k:',label=\"max\")\n",
    "plt.title('UBC Totem Station Mean Monthly Air Temperature 1959-2016')\n",
    "plt.ylabel('Air Temperature (\\circC)')\n",
    "plt.xlabel('Month of Year')\n",
    "plt.legend()\n",
    "plt.show()"
   ]
  },
  {
   "cell_type": "markdown",
   "metadata": {},
   "source": [
    "Environment Canada publishes normal climate values for Vancouver international airport \n",
    "(VANCOUVER INT’L A) on their website; you can use this data to check if your seasonal \n",
    "values looks correct.\n",
    "http://climate.weather.gc.ca/climate_normals/index_e.html"
   ]
  },
  {
   "cell_type": "markdown",
   "metadata": {},
   "source": [
    "## 3. Create a monthly time-series\n",
    "\n",
    "Daily time series are of course useful if one want to learn about weather variability, but \n",
    "characterizing climate generally involves a look at what happens at longer timescales, typically \n",
    "from seasonal timescale to hundreds of million years. We will thus calculate the average air \n",
    "temperature for each month of each year for which we have daily measurement available. The \n",
    "next step will be to calculate monthly temperature anomalies, i.e., calculate the difference \n",
    "between this monthly mean time-series and the monthly average, or normal, calculated across \n",
    "all years for which we have data in part 2.\n",
    "\n",
    "To calculate the avrage temperature for each month of the year and save it in a new dataframe, we can use the <code> groupby() </code> method again with slightly different parameters:"
   ]
  },
  {
   "cell_type": "code",
   "execution_count": null,
   "metadata": {},
   "outputs": [],
   "source": [
    "lab2_data = pd.DataFrame(data.groupby(data.date.dt.to_period(\"M\"))['temp'].mean())\n",
    "\n",
    "#next two lines are essential for dealing with datatype issues and plotting.\n",
    "lab2_data.index = lab2_data.index.astype(str)\n",
    "lab2_data.index = pd.to_datetime(lab2_data.index)\n",
    "\n",
    "print(lab2_data)"
   ]
  },
  {
   "cell_type": "markdown",
   "metadata": {},
   "source": [
    "Again, the easiest way to check that your data has loaded correctly is to plot it. Can you think of\n",
    "a way to verify that the plot you see now is correct? What are the main differences between the \n",
    "plot of the daily mean and the monthly mean temperature at UBC whether station? Based on \n",
    "these time series, would you say that there is any trend in surface temperature recorded at \n",
    "UBC? Try to discuss any feature you find surprising in this plot with your classmates and/or with \n",
    "me."
   ]
  },
  {
   "cell_type": "code",
   "execution_count": null,
   "metadata": {},
   "outputs": [],
   "source": [
    "lab2_data.plot()"
   ]
  },
  {
   "cell_type": "markdown",
   "metadata": {},
   "source": [
    "## 4. Generate anomaly time series\n",
    "\n",
    "Temperature variations in the daily mean and monthly mean temperature time series generated \n",
    "in part 1 and 3 are largely dominated by the seasonal cycle, characterized in part 2. Thus, \n",
    "these two time-series do not tell much about climate variations They simply indicate that\n",
    "temperature variations, in Vancouver, are dominated by the orbit of the Earth, which repeats \n",
    "every year in (almost) the same way. Therefore, to examine variability in the climate, we are \n",
    "now going to remove the seasonal cycle. A long time series of data which has the annual cycle \n",
    "removed is known as an anomaly time series, since it measures how anomalous a given month \n",
    "is compared to the average annual cycle.\n",
    "\n",
    "To remove the mean annual cycle from a monthly time series, you have to first calculate the mean annual cycle -- you did this in part 2 using the groupby functions. Once you have the mean annual cycle, we want to subtract it from the monthly data to find the temperature anomaly by month.\n",
    "\n",
    "The easiest way to accomplish this might be to create an annual cycle list as long as your monthly mean temperature time-series, in which the 12 month annual cycle repeats as many times as the number of years in the monthly mean time-series.\n",
    "\n",
    "This can be done using a for loop, but first we need to turn our mean anuual cycle time series in to a list:"
   ]
  },
  {
   "cell_type": "code",
   "execution_count": null,
   "metadata": {},
   "outputs": [],
   "source": [
    "mean_by_month_list = mean_by_month.to_list()"
   ]
  },
  {
   "cell_type": "markdown",
   "metadata": {},
   "source": [
    "Now that we have our values as a list we will want to lengthen the list to the size of our new dataframe, you will need a nested for loop to do so. Remember, we can add values to a list with the <code>.append()</code> function. Lengthen the list in the cell below:"
   ]
  },
  {
   "cell_type": "code",
   "execution_count": null,
   "metadata": {},
   "outputs": [],
   "source": [
    "length_monthly_mean_time_series=len(lab2_data['temp'])\n",
    "years=length_monthly_mean_time_series//12\n",
    "#lengthen list avg_month_list to be the length of lab2_data\n",
    "for i in range(years):\n",
    "    for j in range(12):\n",
    "        mean_by_month_list.append(mean_by_month_list[j])"
   ]
  },
  {
   "cell_type": "markdown",
   "metadata": {},
   "source": [
    "Once you have this annual cycle list, add it as a column to your lab2_data dataframe. Since this new column and the existing column are the same length, you can simply create a third colum of temperature anomalies by subtracting one by the other. Do so in the cell below:"
   ]
  },
  {
   "cell_type": "code",
   "execution_count": null,
   "metadata": {},
   "outputs": [],
   "source": [
    "#add monthly mean to data frame\n",
    "lab2_data[\"monthly mean\"]= mean_by_month_list[:709]\n",
    "\n",
    "#add difference to data frame\n",
    "lab2_data[\"diff\"]=lab2_data[\"temp\"]-lab2_data[\"monthly mean\"]\n",
    "print(lab2_data)\n"
   ]
  },
  {
   "cell_type": "markdown",
   "metadata": {},
   "source": [
    "Once again, plot the monthly mean temperature anomaly time-series that you obtained and \n",
    "verify that the data looks correct. What are the main differences between the plot of the monthly \n",
    "mean temperature and the monthly mean temperature anomaly at UBC weather station? Based \n",
    "on the temperature anomaly time-series, is there any trend in monthly mean temperature \n",
    "anomalies recorded at UBC? Try to discuss any feature you find surprising in this plot with your \n",
    "classmates and/or with me."
   ]
  },
  {
   "cell_type": "code",
   "execution_count": null,
   "metadata": {},
   "outputs": [],
   "source": [
    "plt.plot(lab2_data.index.values,lab2_data[\"monthly mean\"])"
   ]
  },
  {
   "cell_type": "markdown",
   "metadata": {},
   "source": [
    "## 5. Plot the data using subplot=True\n",
    "During this lab, you generated 3 different temperature time series: the daily mean temperature, the monthly mean temperature, and the monthly mean temperature anomaly. You will now produce the second figure required for this lab by plotting each of the three time series in a separate subplot of one figure. Use the subplot=True parameter to do this. You should make a proper figure for submission, with appropriate axes labels, a title, easy to read font-size, etc... You will have to decide whether it is more logical to place the individual subplots side-by-side (horizontally) or one on top of the other (vertically). Remember to include a figure caption. \n",
    "\n",
    "explore the pandas documentation to see how you can style subplots made from a dataframe: https://pandas.pydata.org/docs/reference/api/pandas.DataFrame.plot.html\n",
    "\n",
    "hint: use the name of your dataframe in stead of \"DataFrame\" as used in the link above."
   ]
  },
  {
   "cell_type": "code",
   "execution_count": null,
   "metadata": {},
   "outputs": [],
   "source": [
    "\n",
    "#plotting everything together as subplots\n",
    "lab2_data.plot(subplots=True)\n"
   ]
  }
 ],
 "metadata": {
  "kernelspec": {
   "display_name": "Python 3",
   "language": "python",
   "name": "python3"
  },
  "language_info": {
   "codemirror_mode": {
    "name": "ipython",
    "version": 3
   },
   "file_extension": ".py",
   "mimetype": "text/x-python",
   "name": "python",
   "nbconvert_exporter": "python",
   "pygments_lexer": "ipython3",
   "version": "3.8.5"
  }
 },
 "nbformat": 4,
 "nbformat_minor": 4
}
