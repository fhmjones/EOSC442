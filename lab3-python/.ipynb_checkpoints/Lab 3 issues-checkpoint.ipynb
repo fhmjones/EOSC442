{
 "cells": [
  {
   "cell_type": "markdown",
   "metadata": {},
   "source": [
    "# General\n",
    "- looking at the prelab word docuemnt, there are some comments that raise a question whether these files are the final versions or not...\n",
    "- images in markdown are kind of awkard. found solutions but it requires having the images saved on the source folder.\n",
    "- im not the most confident in my statistics knowwledge and the MATLAB to Python conversions. Most, if not all, is probably right, but it is probably best I go over my issues again (either with google, or with someone with good fundamentals in statistics)\n",
    "\n",
    "## Pre Lab\n",
    "- image 1 source outdated\n",
    "- image 2 no source"
   ]
  },
  {
   "cell_type": "code",
   "execution_count": null,
   "metadata": {},
   "outputs": [],
   "source": []
  }
 ],
 "metadata": {
  "kernelspec": {
   "display_name": "\"Python/Mu (mu_venv-38-20210628-155125)\"",
   "language": "python",
   "name": "mu_venv-38-20210628-155125"
  },
  "language_info": {
   "codemirror_mode": {
    "name": "ipython",
    "version": 3
   },
   "file_extension": ".py",
   "mimetype": "text/x-python",
   "name": "python",
   "nbconvert_exporter": "python",
   "pygments_lexer": "ipython3",
   "version": "3.8.5"
  }
 },
 "nbformat": 4,
 "nbformat_minor": 4
}
