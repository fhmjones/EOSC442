{
 "cells": [
  {
   "cell_type": "markdown",
   "metadata": {},
   "source": [
    "# General\n",
    "- looking at the prelab word document, there are some comments that raise a question whether these files are the final versions or not...\n",
    "- images in markdown are kind of awkard. found solutions but it requires having the images saved on the source folder.\n",
    "- im not the most confident in my statistics knowwledge and the MATLAB to Python conversions. Most, if not all, is probably right, but it is probably best I go over my issues again (either with google, or with someone with good fundamentals in statistics)\n",
    "- it seems the ubc jupyter hub has problems with the read_xl function. I added !pip install openpyxl at the beginning to fix this.\n",
    "- plotting on jupyter is interesting.... two pointers so far:\n",
    "    - after each time you want to replot on the same figure but in different cell, the last line of code should be the name of the figure\n",
    "    - if you make a mistake, good luck! At the moment it seems that the kernel will keep your mistakes on the plot, a long with your changes. best option is to rerun everything.... will try to find a better solution.\n",
    "\n",
    "## Pre Lab\n",
    "- image 1 source outdated\n",
    "- image 2 no source\n",
    "\n",
    "## Lab\n",
    "### Part 1\n",
    "- i dont thikn we actully use ,read excel until now. may need to rewrod it and/or introduce this function in other labs/prelabs\n",
    "- multiplied slope by 12 as the TA original code does this, even through they ask for the trend in the lab and not trend per yer.\n"
   ]
  },
  {
   "cell_type": "code",
   "execution_count": null,
   "metadata": {},
   "outputs": [],
   "source": []
  }
 ],
 "metadata": {
  "kernelspec": {
   "display_name": "\"Python/Mu (mu_venv-38-20210628-155125)\"",
   "language": "python",
   "name": "mu_venv-38-20210628-155125"
  },
  "language_info": {
   "codemirror_mode": {
    "name": "ipython",
    "version": 3
   },
   "file_extension": ".py",
   "mimetype": "text/x-python",
   "name": "python",
   "nbconvert_exporter": "python",
   "pygments_lexer": "ipython3",
   "version": "3.8.5"
  }
 },
 "nbformat": 4,
 "nbformat_minor": 4
}
